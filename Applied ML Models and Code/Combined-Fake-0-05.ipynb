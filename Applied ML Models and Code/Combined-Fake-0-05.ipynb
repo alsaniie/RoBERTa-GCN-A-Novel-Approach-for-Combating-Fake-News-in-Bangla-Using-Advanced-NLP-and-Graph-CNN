{
 "cells": [
  {
   "cell_type": "code",
   "execution_count": 1,
   "id": "5b100bf5",
   "metadata": {
    "execution": {
     "iopub.execute_input": "2024-01-09T20:44:08.101791Z",
     "iopub.status.busy": "2024-01-09T20:44:08.101456Z",
     "iopub.status.idle": "2024-01-09T20:44:08.997201Z",
     "shell.execute_reply": "2024-01-09T20:44:08.996393Z"
    },
    "papermill": {
     "duration": 0.906681,
     "end_time": "2024-01-09T20:44:08.999543",
     "exception": false,
     "start_time": "2024-01-09T20:44:08.092862",
     "status": "completed"
    },
    "tags": []
   },
   "outputs": [
    {
     "name": "stderr",
     "output_type": "stream",
     "text": [
      "/opt/conda/lib/python3.10/site-packages/scipy/__init__.py:146: UserWarning: A NumPy version >=1.16.5 and <1.23.0 is required for this version of SciPy (detected version 1.24.3\n",
      "  warnings.warn(f\"A NumPy version >={np_minversion} and <{np_maxversion}\"\n"
     ]
    }
   ],
   "source": [
    "from sklearn.metrics import classification_report, accuracy_score, precision_score, recall_score, matthews_corrcoef, hamming_loss, confusion_matrix"
   ]
  },
  {
   "cell_type": "code",
   "execution_count": 2,
   "id": "146bc7de",
   "metadata": {
    "execution": {
     "iopub.execute_input": "2024-01-09T20:44:09.015020Z",
     "iopub.status.busy": "2024-01-09T20:44:09.014480Z",
     "iopub.status.idle": "2024-01-09T20:44:15.600225Z",
     "shell.execute_reply": "2024-01-09T20:44:15.599226Z"
    },
    "papermill": {
     "duration": 6.595549,
     "end_time": "2024-01-09T20:44:15.602302",
     "exception": false,
     "start_time": "2024-01-09T20:44:09.006753",
     "status": "completed"
    },
    "tags": []
   },
   "outputs": [
    {
     "data": {
      "text/plain": [
       "{'/kaggle/input/banglafakenews/Authentic-48K.csv':    articleID          domain                 date   category  \\\n",
       " 0          1  jagonews24.com  2018-09-19 17:48:18  Education   \n",
       " 1          2  jagonews24.com  2018-09-19 17:48:19   National   \n",
       " 2          3  jagonews24.com  2018-09-19 17:48:20   National   \n",
       " 3          4  jagonews24.com  2018-09-19 17:48:21      Crime   \n",
       " 4          5  jagonews24.com  2018-09-19 17:48:21   National   \n",
       " \n",
       "                                             headline  \\\n",
       " 0   হট্টগোল করায় বাকৃবিতে দুইজন বরখাস্ত, ৬ জনকে শোকজ   \n",
       " 1    মালয়েশিয়ায় কর্মী পাঠানোর ব্যবস্থা নেয়ার সুপারিশ   \n",
       " 2  প্রেমের প্রস্তাবে রাজি না হওয়ায় স্কুলছাত্রীকে ...   \n",
       " 3  মেডিয়েশনই মামলাজট নিরসনের পথ : বিচারপতি আহমেদ ...   \n",
       " 4         টকশোতে বক্তব্য দিতে গিয়ে জাপা নেতার মৃত্যু   \n",
       " \n",
       "                                              content  label  \n",
       " 0  গত ১৭ সেপ্টেম্বর বাংলাদেশ কৃষি বিশ্ববিদ্যালয়ে ...      1  \n",
       " 1  বাংলাদেশের বৃহৎ শ্রমবাজার মালয়েশিয়ায় আবার শ্রম...      1  \n",
       " 2  নরসিংদীর মনোহরদীতে প্রেমের প্রস্তাবে রাজি না হ...      1  \n",
       " 3  সুপ্রিম কোর্টের হাইকোর্ট বিভাগের বিচারপতি আহমে...      1  \n",
       " 4  মাদারীপুর সদরের উপজেলার লেকেরপাড়ে একটি বেসরকার...      1  ,\n",
       " '/kaggle/input/banglafakenews/Fake-1K.csv':    articleID                    domain                        date  \\\n",
       " 0          1         channeldhaka.news   2019-03-14T13:34:14+00:00   \n",
       " 1          2                 earki.com            সেম্বর ১৭, ২০১৮    \n",
       " 2          3                 earki.com  ২০:৩৯, জানুয়ারি ১৪, ২০১৯    \n",
       " 3          4         channeldhaka.news   2018-06-30T15:56:47+00:00   \n",
       " 4          5  motikontho.wordpress.com   2013-03-05T21:55:45+00:00   \n",
       " \n",
       "         category                                           headline  \\\n",
       " 0  International                           মুরগির হামলায় শেয়াল নিহত   \n",
       " 1  Miscellaneous            বিটিভিতে যেবার আমি ইন্টারভিউ দিতে গেলাম   \n",
       " 2  Miscellaneous  বিদেশ থেকে উন্নতমানের বিরোধীদল আমদানি করার পরা...   \n",
       " 3         Sports                      অবসর নেয়ার ঘোষণা দিলেন মেসি !   \n",
       " 4  Miscellaneous  মাদারফাকার নহে, ব্রাদারফাকার: সাকা | দৈনিক মতি...   \n",
       " \n",
       "                                              content  label  \n",
       " 0  বাংলায় একটা প্রবাদ আছে, শেয়ালের কাছে মুরগী বর্...      0  \n",
       " 1  BTV থেকে লোকজন আসছে, ইন্টারভিউ নিবে।চারজনের টি...      0  \n",
       " 2  অদ্ভুত বিরোধীদলহীনতায় ভুগছে সরকার। এ এক অন্যরক...      0  \n",
       " 3  রাশিয়া বিশ্বকাপ নকআউট পর্বে ফ্রান্সের সাথে ৪-৩...      0  \n",
       " 4  নিজস্ব মতিবেদক‘মাদারফাকার নহে, আমি ব্রাদারফাকা...      0  ,\n",
       " '/kaggle/input/banglafakenews/LabeledAuthentic-7K.csv':    articleID           domain                 date  category  \\\n",
       " 0          1  bd-pratidin.com  2018-09-20 08:16:43    Sports   \n",
       " 1          2     jugantor.com  2018-09-20 20:20:20    Sports   \n",
       " 2          3     bd24live.com  2018-09-20 16:39:40  National   \n",
       " 3          4     bd24live.com  2018-09-19 18:27:56  National   \n",
       " 4          5     somoynews.tv  2018-09-20 10:15:28   Finance   \n",
       " \n",
       "                                source relation  \\\n",
       " 0  আফগান ক্রিকেট বোর্ড (এসিবি) প্রধান  Related   \n",
       " 1                            Reporter  Related   \n",
       " 2                            Reporter  Related   \n",
       " 3            জননিরাপত্তা বিভাগের সচিব  Related   \n",
       " 4    পেট্রোল পাম্প মালিক সমিতি সভাপতি  Related   \n",
       " \n",
       "                                             headline  \\\n",
       " 0          হঠাৎ আফগান ক্রিকেট বোর্ড প্রধানের পদত্যাগ   \n",
       " 1                           টস হেরে বোলিংয়ে বাংলাদেশ   \n",
       " 2                     রাজধানীতে বিশেষ অভিযানে আটক ৪৩   \n",
       " 3  উস্কানি রোধে নজরদারি থাকবে সামাজিক যোগাযোগ মাধ...   \n",
       " 4     'যেখানে তেল আসত ৭ দিনে, এখন তা আসবে অতি দ্রুত'   \n",
       " \n",
       "                                              content  label  \n",
       " 0  ক্রিকেট বিশ্বের নতুন চমকের নাম আফগানিস্তান। কয়...    1.0  \n",
       " 1  এশিয়া কাপের ষষ্ঠ ম্যাচে বাংলাদেশ দলের বিপক্ষে ...    1.0  \n",
       " 2  রাজধানীতে মাদক বিরোধী বিশেষ অভিযান পরিচালনা কর...    1.0  \n",
       " 3  সনাতন ধর্মাবলম্বীদের সবচেয়ে বড় ধর্মীয় উৎসব দুর...    1.0  \n",
       " 4  ভারত থেকে পাইপ লাইনের মাধ্যমে সরাসরি দেশে জ্বা...    1.0  ,\n",
       " '/kaggle/input/banglafakenews/LabeledFake-1K.csv':    articleID                    domain                        date  \\\n",
       " 0          1         channeldhaka.news   2019-03-14T13:34:14+00:00   \n",
       " 1          2                 earki.com            সেম্বর ১৭, ২০১৮    \n",
       " 2          3                 earki.com  ২০:৩৯, জানুয়ারি ১৪, ২০১৯    \n",
       " 3          4         channeldhaka.news   2018-06-30T15:56:47+00:00   \n",
       " 4          5  motikontho.wordpress.com   2013-03-05T21:55:45+00:00   \n",
       " \n",
       "         category    source   relation  \\\n",
       " 0  International  Reporter  Unrelated   \n",
       " 1  Miscellaneous  Reporter  Unrelated   \n",
       " 2  Miscellaneous  Reporter  Unrelated   \n",
       " 3         Sports  Reporter  Unrelated   \n",
       " 4  Miscellaneous  Reporter  Unrelated   \n",
       " \n",
       "                                             headline  \\\n",
       " 0                           মুরগির হামলায় শেয়াল নিহত   \n",
       " 1            বিটিভিতে যেবার আমি ইন্টারভিউ দিতে গেলাম   \n",
       " 2  বিদেশ থেকে উন্নতমানের বিরোধীদল আমদানি করার পরা...   \n",
       " 3                      অবসর নেয়ার ঘোষণা দিলেন মেসি !   \n",
       " 4  মাদারফাকার নহে, ব্রাদারফাকার: সাকা | দৈনিক মতি...   \n",
       " \n",
       "                                              content  label  F-type  \n",
       " 0  বাংলায় একটা প্রবাদ আছে, শেয়ালের কাছে মুরগী বর্...      0  Satire  \n",
       " 1  BTV থেকে লোকজন আসছে, ইন্টারভিউ নিবে।চারজনের টি...      0  Satire  \n",
       " 2  অদ্ভুত বিরোধীদলহীনতায় ভুগছে সরকার। এ এক অন্যরক...      0  Satire  \n",
       " 3  রাশিয়া বিশ্বকাপ নকআউট পর্বে ফ্রান্সের সাথে ৪-৩...      0  Satire  \n",
       " 4  নিজস্ব মতিবেদক‘মাদারফাকার নহে, আমি ব্রাদারফাকা...      0  Satire  }"
      ]
     },
     "execution_count": 2,
     "metadata": {},
     "output_type": "execute_result"
    }
   ],
   "source": [
    "import pandas as pd\n",
    "\n",
    "# Load the files into pandas DataFrames\n",
    "file_paths = [\n",
    "    \"/kaggle/input/banglafakenews/Authentic-48K.csv\",\n",
    "    \"/kaggle/input/banglafakenews/Fake-1K.csv\",\n",
    "    \"/kaggle/input/banglafakenews/LabeledAuthentic-7K.csv\",\n",
    "    \"/kaggle/input/banglafakenews/LabeledFake-1K.csv\"\n",
    "]\n",
    "\n",
    "\n",
    "dataframes = {file_path: pd.read_csv(file_path) for file_path in file_paths}\n",
    "first_rows = {file_path: df.head() for file_path, df in dataframes.items()}\n",
    "first_rows\n"
   ]
  },
  {
   "cell_type": "markdown",
   "id": "cf959d10",
   "metadata": {
    "papermill": {
     "duration": 0.006791,
     "end_time": "2024-01-09T20:44:15.616245",
     "exception": false,
     "start_time": "2024-01-09T20:44:15.609454",
     "status": "completed"
    },
    "tags": []
   },
   "source": [
    "# With 0.05 feature extraction significance level.\n"
   ]
  },
  {
   "cell_type": "markdown",
   "id": "34aa1c96",
   "metadata": {
    "papermill": {
     "duration": 0.006638,
     "end_time": "2024-01-09T20:44:15.629935",
     "exception": false,
     "start_time": "2024-01-09T20:44:15.623297",
     "status": "completed"
    },
    "tags": []
   },
   "source": [
    "# Logistic Regression with 0.05 feature extraction"
   ]
  },
  {
   "cell_type": "code",
   "execution_count": 3,
   "id": "c51daa2b",
   "metadata": {
    "execution": {
     "iopub.execute_input": "2024-01-09T20:44:15.645629Z",
     "iopub.status.busy": "2024-01-09T20:44:15.644955Z",
     "iopub.status.idle": "2024-01-09T20:44:35.536160Z",
     "shell.execute_reply": "2024-01-09T20:44:35.535359Z"
    },
    "papermill": {
     "duration": 19.901668,
     "end_time": "2024-01-09T20:44:35.538527",
     "exception": false,
     "start_time": "2024-01-09T20:44:15.636859",
     "status": "completed"
    },
    "tags": []
   },
   "outputs": [],
   "source": [
    "from sklearn.model_selection import train_test_split\n",
    "from sklearn.feature_extraction.text import TfidfVectorizer\n",
    "from sklearn.linear_model import LogisticRegression\n",
    "from sklearn.metrics import classification_report, confusion_matrix\n",
    "\n",
    "authentic_df = pd.concat([dataframes[\"/kaggle/input/banglafakenews/Authentic-48K.csv\"], dataframes[\"/kaggle/input/banglafakenews/LabeledAuthentic-7K.csv\"]])\n",
    "fake_df = pd.concat([dataframes[\"/kaggle/input/banglafakenews/Fake-1K.csv\"], dataframes[\"/kaggle/input/banglafakenews/LabeledFake-1K.csv\"]])\n",
    "\n",
    "authentic_df['label'] = 1\n",
    "fake_df['label'] = 0\n",
    "\n",
    "combined_df = pd.concat([authentic_df, fake_df])\n",
    "\n",
    "X = combined_df['content'].fillna(\"\") \n",
    "y = combined_df['label']\n",
    "\n",
    "\n",
    "X_train, X_test, y_train, y_test = train_test_split(X, y, test_size=0.2, random_state=42)\n",
    "\n",
    "vectorizer = TfidfVectorizer(max_df=0.95, min_df=0.05)  # Applying the 0.05 feature extraction threshold\n",
    "X_train_tfidf = vectorizer.fit_transform(X_train)\n",
    "X_test_tfidf = vectorizer.transform(X_test)\n",
    "\n",
    "log_reg_model = LogisticRegression(random_state=42)\n",
    "log_reg_model.fit(X_train_tfidf, y_train)\n",
    "\n",
    "predictions = log_reg_model.predict(X_test_tfidf)\n",
    "evaluation_report = classification_report(y_test, predictions)\n",
    "conf_matrix = confusion_matrix(y_test, predictions)"
   ]
  },
  {
   "cell_type": "code",
   "execution_count": 4,
   "id": "9cbec62c",
   "metadata": {
    "execution": {
     "iopub.execute_input": "2024-01-09T20:44:35.554597Z",
     "iopub.status.busy": "2024-01-09T20:44:35.554301Z",
     "iopub.status.idle": "2024-01-09T20:44:35.581020Z",
     "shell.execute_reply": "2024-01-09T20:44:35.579933Z"
    },
    "papermill": {
     "duration": 0.036906,
     "end_time": "2024-01-09T20:44:35.583034",
     "exception": false,
     "start_time": "2024-01-09T20:44:35.546128",
     "status": "completed"
    },
    "tags": []
   },
   "outputs": [
    {
     "name": "stdout",
     "output_type": "stream",
     "text": [
      "Accuracy: 0.9699042407660738\n",
      "Precision: 0.9724602203182374\n",
      "Recall: 0.9966845878136201\n",
      "Matthews Correlation Coefficient: 0.5823053755300048\n",
      "Hamming Loss: 0.030095759233926128\n",
      "Sensitivity (SEN): 0.9966845878136201\n",
      "Specificity (SPE): 0.4123134328358209\n",
      "Positive Predictive Value (PPV): 0.9724602203182374\n",
      "Negative Predictive Value (NPV): 0.8565891472868217\n"
     ]
    }
   ],
   "source": [
    "predictions = log_reg_model.predict(X_test_tfidf)\n",
    "# Basic metrics\n",
    "#print(\"Classification Report:\\n\", classification_report(y_test, predictions))\n",
    "print(\"Accuracy:\", accuracy_score(y_test, predictions))\n",
    "print(\"Precision:\", precision_score(y_test, predictions))\n",
    "print(\"Recall:\", recall_score(y_test, predictions))\n",
    "print(\"Matthews Correlation Coefficient:\", matthews_corrcoef(y_test, predictions))\n",
    "print(\"Hamming Loss:\", hamming_loss(y_test, predictions))\n",
    "\n",
    "\n",
    "tn, fp, fn, tp = confusion_matrix(y_test, predictions).ravel()\n",
    "sen = tp / (tp + fn)  # Sensitivity\n",
    "spe = tn / (tn + fp)  # Specificity\n",
    "ppv = tp / (tp + fp)  # Positive Predictive Value\n",
    "npv = tn / (tn + fn)  # Negative Predictive Value\n",
    "\n",
    "print(\"Sensitivity (SEN):\", sen)\n",
    "print(\"Specificity (SPE):\", spe)\n",
    "print(\"Positive Predictive Value (PPV):\", ppv)\n",
    "print(\"Negative Predictive Value (NPV):\", npv)"
   ]
  },
  {
   "cell_type": "markdown",
   "id": "1ed3a865",
   "metadata": {
    "papermill": {
     "duration": 0.006758,
     "end_time": "2024-01-09T20:44:35.596940",
     "exception": false,
     "start_time": "2024-01-09T20:44:35.590182",
     "status": "completed"
    },
    "tags": []
   },
   "source": [
    "# Random Forest Classifier with 0.05 feature extraction"
   ]
  },
  {
   "cell_type": "code",
   "execution_count": 5,
   "id": "9ade93fd",
   "metadata": {
    "execution": {
     "iopub.execute_input": "2024-01-09T20:44:35.612631Z",
     "iopub.status.busy": "2024-01-09T20:44:35.611973Z",
     "iopub.status.idle": "2024-01-09T20:45:59.610798Z",
     "shell.execute_reply": "2024-01-09T20:45:59.609941Z"
    },
    "papermill": {
     "duration": 84.015989,
     "end_time": "2024-01-09T20:45:59.619899",
     "exception": false,
     "start_time": "2024-01-09T20:44:35.603910",
     "status": "completed"
    },
    "tags": []
   },
   "outputs": [
    {
     "data": {
      "text/html": [
       "<style>#sk-container-id-1 {color: black;background-color: white;}#sk-container-id-1 pre{padding: 0;}#sk-container-id-1 div.sk-toggleable {background-color: white;}#sk-container-id-1 label.sk-toggleable__label {cursor: pointer;display: block;width: 100%;margin-bottom: 0;padding: 0.3em;box-sizing: border-box;text-align: center;}#sk-container-id-1 label.sk-toggleable__label-arrow:before {content: \"▸\";float: left;margin-right: 0.25em;color: #696969;}#sk-container-id-1 label.sk-toggleable__label-arrow:hover:before {color: black;}#sk-container-id-1 div.sk-estimator:hover label.sk-toggleable__label-arrow:before {color: black;}#sk-container-id-1 div.sk-toggleable__content {max-height: 0;max-width: 0;overflow: hidden;text-align: left;background-color: #f0f8ff;}#sk-container-id-1 div.sk-toggleable__content pre {margin: 0.2em;color: black;border-radius: 0.25em;background-color: #f0f8ff;}#sk-container-id-1 input.sk-toggleable__control:checked~div.sk-toggleable__content {max-height: 200px;max-width: 100%;overflow: auto;}#sk-container-id-1 input.sk-toggleable__control:checked~label.sk-toggleable__label-arrow:before {content: \"▾\";}#sk-container-id-1 div.sk-estimator input.sk-toggleable__control:checked~label.sk-toggleable__label {background-color: #d4ebff;}#sk-container-id-1 div.sk-label input.sk-toggleable__control:checked~label.sk-toggleable__label {background-color: #d4ebff;}#sk-container-id-1 input.sk-hidden--visually {border: 0;clip: rect(1px 1px 1px 1px);clip: rect(1px, 1px, 1px, 1px);height: 1px;margin: -1px;overflow: hidden;padding: 0;position: absolute;width: 1px;}#sk-container-id-1 div.sk-estimator {font-family: monospace;background-color: #f0f8ff;border: 1px dotted black;border-radius: 0.25em;box-sizing: border-box;margin-bottom: 0.5em;}#sk-container-id-1 div.sk-estimator:hover {background-color: #d4ebff;}#sk-container-id-1 div.sk-parallel-item::after {content: \"\";width: 100%;border-bottom: 1px solid gray;flex-grow: 1;}#sk-container-id-1 div.sk-label:hover label.sk-toggleable__label {background-color: #d4ebff;}#sk-container-id-1 div.sk-serial::before {content: \"\";position: absolute;border-left: 1px solid gray;box-sizing: border-box;top: 0;bottom: 0;left: 50%;z-index: 0;}#sk-container-id-1 div.sk-serial {display: flex;flex-direction: column;align-items: center;background-color: white;padding-right: 0.2em;padding-left: 0.2em;position: relative;}#sk-container-id-1 div.sk-item {position: relative;z-index: 1;}#sk-container-id-1 div.sk-parallel {display: flex;align-items: stretch;justify-content: center;background-color: white;position: relative;}#sk-container-id-1 div.sk-item::before, #sk-container-id-1 div.sk-parallel-item::before {content: \"\";position: absolute;border-left: 1px solid gray;box-sizing: border-box;top: 0;bottom: 0;left: 50%;z-index: -1;}#sk-container-id-1 div.sk-parallel-item {display: flex;flex-direction: column;z-index: 1;position: relative;background-color: white;}#sk-container-id-1 div.sk-parallel-item:first-child::after {align-self: flex-end;width: 50%;}#sk-container-id-1 div.sk-parallel-item:last-child::after {align-self: flex-start;width: 50%;}#sk-container-id-1 div.sk-parallel-item:only-child::after {width: 0;}#sk-container-id-1 div.sk-dashed-wrapped {border: 1px dashed gray;margin: 0 0.4em 0.5em 0.4em;box-sizing: border-box;padding-bottom: 0.4em;background-color: white;}#sk-container-id-1 div.sk-label label {font-family: monospace;font-weight: bold;display: inline-block;line-height: 1.2em;}#sk-container-id-1 div.sk-label-container {text-align: center;}#sk-container-id-1 div.sk-container {/* jupyter's `normalize.less` sets `[hidden] { display: none; }` but bootstrap.min.css set `[hidden] { display: none !important; }` so we also need the `!important` here to be able to override the default hidden behavior on the sphinx rendered scikit-learn.org. See: https://github.com/scikit-learn/scikit-learn/issues/21755 */display: inline-block !important;position: relative;}#sk-container-id-1 div.sk-text-repr-fallback {display: none;}</style><div id=\"sk-container-id-1\" class=\"sk-top-container\"><div class=\"sk-text-repr-fallback\"><pre>RandomForestClassifier(random_state=42)</pre><b>In a Jupyter environment, please rerun this cell to show the HTML representation or trust the notebook. <br />On GitHub, the HTML representation is unable to render, please try loading this page with nbviewer.org.</b></div><div class=\"sk-container\" hidden><div class=\"sk-item\"><div class=\"sk-estimator sk-toggleable\"><input class=\"sk-toggleable__control sk-hidden--visually\" id=\"sk-estimator-id-1\" type=\"checkbox\" checked><label for=\"sk-estimator-id-1\" class=\"sk-toggleable__label sk-toggleable__label-arrow\">RandomForestClassifier</label><div class=\"sk-toggleable__content\"><pre>RandomForestClassifier(random_state=42)</pre></div></div></div></div></div>"
      ],
      "text/plain": [
       "RandomForestClassifier(random_state=42)"
      ]
     },
     "execution_count": 5,
     "metadata": {},
     "output_type": "execute_result"
    }
   ],
   "source": [
    "from sklearn.ensemble import RandomForestClassifier\n",
    "rf_model = RandomForestClassifier(random_state=42)\n",
    "rf_model.fit(X_train_tfidf, y_train)"
   ]
  },
  {
   "cell_type": "code",
   "execution_count": 6,
   "id": "f9f5a4cb",
   "metadata": {
    "execution": {
     "iopub.execute_input": "2024-01-09T20:45:59.636199Z",
     "iopub.status.busy": "2024-01-09T20:45:59.635838Z",
     "iopub.status.idle": "2024-01-09T20:46:00.158554Z",
     "shell.execute_reply": "2024-01-09T20:46:00.157512Z"
    },
    "papermill": {
     "duration": 0.533562,
     "end_time": "2024-01-09T20:46:00.160836",
     "exception": false,
     "start_time": "2024-01-09T20:45:59.627274",
     "status": "completed"
    },
    "tags": []
   },
   "outputs": [
    {
     "name": "stdout",
     "output_type": "stream",
     "text": [
      "Accuracy: 0.9699042407660738\n",
      "Precision: 0.9724602203182374\n",
      "Recall: 0.9966845878136201\n",
      "Matthews Correlation Coefficient: 0.5823053755300048\n",
      "Hamming Loss: 0.030095759233926128\n",
      "Sensitivity (SEN): 0.9966845878136201\n",
      "Specificity (SPE): 0.4123134328358209\n",
      "Positive Predictive Value (PPV): 0.9724602203182374\n",
      "Negative Predictive Value (NPV): 0.8565891472868217\n"
     ]
    }
   ],
   "source": [
    "from sklearn.metrics import classification_report, accuracy_score, precision_score, recall_score, matthews_corrcoef, hamming_loss\n",
    "\n",
    "rf_predictions = rf_model.predict(X_test_tfidf)\n",
    "print(\"Accuracy:\", accuracy_score(y_test, predictions))\n",
    "print(\"Precision:\", precision_score(y_test, predictions))\n",
    "print(\"Recall:\", recall_score(y_test, predictions))\n",
    "print(\"Matthews Correlation Coefficient:\", matthews_corrcoef(y_test, predictions))\n",
    "print(\"Hamming Loss:\", hamming_loss(y_test, predictions))\n",
    "\n",
    "\n",
    "tn, fp, fn, tp = confusion_matrix(y_test, predictions).ravel()\n",
    "sen = tp / (tp + fn)  # Sensitivity\n",
    "spe = tn / (tn + fp)  # Specificity\n",
    "ppv = tp / (tp + fp)  # Positive Predictive Value\n",
    "npv = tn / (tn + fn)  # Negative Predictive Value\n",
    "\n",
    "print(\"Sensitivity (SEN):\", sen)\n",
    "print(\"Specificity (SPE):\", spe)\n",
    "print(\"Positive Predictive Value (PPV):\", ppv)\n",
    "print(\"Negative Predictive Value (NPV):\", npv)"
   ]
  },
  {
   "cell_type": "code",
   "execution_count": 7,
   "id": "b91ea428",
   "metadata": {
    "execution": {
     "iopub.execute_input": "2024-01-09T20:46:00.177385Z",
     "iopub.status.busy": "2024-01-09T20:46:00.177082Z",
     "iopub.status.idle": "2024-01-09T20:53:23.582188Z",
     "shell.execute_reply": "2024-01-09T20:53:23.581156Z"
    },
    "papermill": {
     "duration": 443.422879,
     "end_time": "2024-01-09T20:53:23.591626",
     "exception": false,
     "start_time": "2024-01-09T20:46:00.168747",
     "status": "completed"
    },
    "tags": []
   },
   "outputs": [
    {
     "data": {
      "text/html": [
       "<style>#sk-container-id-2 {color: black;background-color: white;}#sk-container-id-2 pre{padding: 0;}#sk-container-id-2 div.sk-toggleable {background-color: white;}#sk-container-id-2 label.sk-toggleable__label {cursor: pointer;display: block;width: 100%;margin-bottom: 0;padding: 0.3em;box-sizing: border-box;text-align: center;}#sk-container-id-2 label.sk-toggleable__label-arrow:before {content: \"▸\";float: left;margin-right: 0.25em;color: #696969;}#sk-container-id-2 label.sk-toggleable__label-arrow:hover:before {color: black;}#sk-container-id-2 div.sk-estimator:hover label.sk-toggleable__label-arrow:before {color: black;}#sk-container-id-2 div.sk-toggleable__content {max-height: 0;max-width: 0;overflow: hidden;text-align: left;background-color: #f0f8ff;}#sk-container-id-2 div.sk-toggleable__content pre {margin: 0.2em;color: black;border-radius: 0.25em;background-color: #f0f8ff;}#sk-container-id-2 input.sk-toggleable__control:checked~div.sk-toggleable__content {max-height: 200px;max-width: 100%;overflow: auto;}#sk-container-id-2 input.sk-toggleable__control:checked~label.sk-toggleable__label-arrow:before {content: \"▾\";}#sk-container-id-2 div.sk-estimator input.sk-toggleable__control:checked~label.sk-toggleable__label {background-color: #d4ebff;}#sk-container-id-2 div.sk-label input.sk-toggleable__control:checked~label.sk-toggleable__label {background-color: #d4ebff;}#sk-container-id-2 input.sk-hidden--visually {border: 0;clip: rect(1px 1px 1px 1px);clip: rect(1px, 1px, 1px, 1px);height: 1px;margin: -1px;overflow: hidden;padding: 0;position: absolute;width: 1px;}#sk-container-id-2 div.sk-estimator {font-family: monospace;background-color: #f0f8ff;border: 1px dotted black;border-radius: 0.25em;box-sizing: border-box;margin-bottom: 0.5em;}#sk-container-id-2 div.sk-estimator:hover {background-color: #d4ebff;}#sk-container-id-2 div.sk-parallel-item::after {content: \"\";width: 100%;border-bottom: 1px solid gray;flex-grow: 1;}#sk-container-id-2 div.sk-label:hover label.sk-toggleable__label {background-color: #d4ebff;}#sk-container-id-2 div.sk-serial::before {content: \"\";position: absolute;border-left: 1px solid gray;box-sizing: border-box;top: 0;bottom: 0;left: 50%;z-index: 0;}#sk-container-id-2 div.sk-serial {display: flex;flex-direction: column;align-items: center;background-color: white;padding-right: 0.2em;padding-left: 0.2em;position: relative;}#sk-container-id-2 div.sk-item {position: relative;z-index: 1;}#sk-container-id-2 div.sk-parallel {display: flex;align-items: stretch;justify-content: center;background-color: white;position: relative;}#sk-container-id-2 div.sk-item::before, #sk-container-id-2 div.sk-parallel-item::before {content: \"\";position: absolute;border-left: 1px solid gray;box-sizing: border-box;top: 0;bottom: 0;left: 50%;z-index: -1;}#sk-container-id-2 div.sk-parallel-item {display: flex;flex-direction: column;z-index: 1;position: relative;background-color: white;}#sk-container-id-2 div.sk-parallel-item:first-child::after {align-self: flex-end;width: 50%;}#sk-container-id-2 div.sk-parallel-item:last-child::after {align-self: flex-start;width: 50%;}#sk-container-id-2 div.sk-parallel-item:only-child::after {width: 0;}#sk-container-id-2 div.sk-dashed-wrapped {border: 1px dashed gray;margin: 0 0.4em 0.5em 0.4em;box-sizing: border-box;padding-bottom: 0.4em;background-color: white;}#sk-container-id-2 div.sk-label label {font-family: monospace;font-weight: bold;display: inline-block;line-height: 1.2em;}#sk-container-id-2 div.sk-label-container {text-align: center;}#sk-container-id-2 div.sk-container {/* jupyter's `normalize.less` sets `[hidden] { display: none; }` but bootstrap.min.css set `[hidden] { display: none !important; }` so we also need the `!important` here to be able to override the default hidden behavior on the sphinx rendered scikit-learn.org. See: https://github.com/scikit-learn/scikit-learn/issues/21755 */display: inline-block !important;position: relative;}#sk-container-id-2 div.sk-text-repr-fallback {display: none;}</style><div id=\"sk-container-id-2\" class=\"sk-top-container\"><div class=\"sk-text-repr-fallback\"><pre>SVC(random_state=42)</pre><b>In a Jupyter environment, please rerun this cell to show the HTML representation or trust the notebook. <br />On GitHub, the HTML representation is unable to render, please try loading this page with nbviewer.org.</b></div><div class=\"sk-container\" hidden><div class=\"sk-item\"><div class=\"sk-estimator sk-toggleable\"><input class=\"sk-toggleable__control sk-hidden--visually\" id=\"sk-estimator-id-2\" type=\"checkbox\" checked><label for=\"sk-estimator-id-2\" class=\"sk-toggleable__label sk-toggleable__label-arrow\">SVC</label><div class=\"sk-toggleable__content\"><pre>SVC(random_state=42)</pre></div></div></div></div></div>"
      ],
      "text/plain": [
       "SVC(random_state=42)"
      ]
     },
     "execution_count": 7,
     "metadata": {},
     "output_type": "execute_result"
    }
   ],
   "source": [
    "from sklearn.svm import SVC\n",
    "svm_model = SVC(random_state=42)\n",
    "svm_model.fit(X_train_tfidf, y_train)\n"
   ]
  },
  {
   "cell_type": "code",
   "execution_count": 8,
   "id": "6e461a12",
   "metadata": {
    "execution": {
     "iopub.execute_input": "2024-01-09T20:53:23.607884Z",
     "iopub.status.busy": "2024-01-09T20:53:23.607577Z",
     "iopub.status.idle": "2024-01-09T20:54:11.348860Z",
     "shell.execute_reply": "2024-01-09T20:54:11.347955Z"
    },
    "papermill": {
     "duration": 47.759108,
     "end_time": "2024-01-09T20:54:11.358175",
     "exception": false,
     "start_time": "2024-01-09T20:53:23.599067",
     "status": "completed"
    },
    "tags": []
   },
   "outputs": [
    {
     "name": "stdout",
     "output_type": "stream",
     "text": [
      "Accuracy: 0.9699042407660738\n",
      "Precision: 0.9724602203182374\n",
      "Recall: 0.9966845878136201\n",
      "Matthews Correlation Coefficient: 0.5823053755300048\n",
      "Hamming Loss: 0.030095759233926128\n",
      "Sensitivity (SEN): 0.9966845878136201\n",
      "Specificity (SPE): 0.4123134328358209\n",
      "Positive Predictive Value (PPV): 0.9724602203182374\n",
      "Negative Predictive Value (NPV): 0.8565891472868217\n"
     ]
    }
   ],
   "source": [
    "from sklearn.metrics import classification_report, accuracy_score, precision_score, recall_score, matthews_corrcoef, hamming_loss\n",
    "\n",
    "svm_predictions = svm_model.predict(X_test_tfidf)\n",
    "print(\"Accuracy:\", accuracy_score(y_test, predictions))\n",
    "print(\"Precision:\", precision_score(y_test, predictions))\n",
    "print(\"Recall:\", recall_score(y_test, predictions))\n",
    "print(\"Matthews Correlation Coefficient:\", matthews_corrcoef(y_test, predictions))\n",
    "print(\"Hamming Loss:\", hamming_loss(y_test, predictions))\n",
    "\n",
    "\n",
    "tn, fp, fn, tp = confusion_matrix(y_test, predictions).ravel()\n",
    "sen = tp / (tp + fn)  # Sensitivity\n",
    "spe = tn / (tn + fp)  # Specificity\n",
    "ppv = tp / (tp + fp)  # Positive Predictive Value\n",
    "npv = tn / (tn + fn)  # Negative Predictive Value\n",
    "\n",
    "print(\"Sensitivity (SEN):\", sen)\n",
    "print(\"Specificity (SPE):\", spe)\n",
    "print(\"Positive Predictive Value (PPV):\", ppv)\n",
    "print(\"Negative Predictive Value (NPV):\", npv)"
   ]
  },
  {
   "cell_type": "code",
   "execution_count": 9,
   "id": "83b1fd04",
   "metadata": {
    "execution": {
     "iopub.execute_input": "2024-01-09T20:54:11.374641Z",
     "iopub.status.busy": "2024-01-09T20:54:11.374337Z",
     "iopub.status.idle": "2024-01-09T20:54:20.354851Z",
     "shell.execute_reply": "2024-01-09T20:54:20.353926Z"
    },
    "papermill": {
     "duration": 8.990977,
     "end_time": "2024-01-09T20:54:20.356829",
     "exception": false,
     "start_time": "2024-01-09T20:54:11.365852",
     "status": "completed"
    },
    "tags": []
   },
   "outputs": [
    {
     "data": {
      "text/html": [
       "<style>#sk-container-id-3 {color: black;background-color: white;}#sk-container-id-3 pre{padding: 0;}#sk-container-id-3 div.sk-toggleable {background-color: white;}#sk-container-id-3 label.sk-toggleable__label {cursor: pointer;display: block;width: 100%;margin-bottom: 0;padding: 0.3em;box-sizing: border-box;text-align: center;}#sk-container-id-3 label.sk-toggleable__label-arrow:before {content: \"▸\";float: left;margin-right: 0.25em;color: #696969;}#sk-container-id-3 label.sk-toggleable__label-arrow:hover:before {color: black;}#sk-container-id-3 div.sk-estimator:hover label.sk-toggleable__label-arrow:before {color: black;}#sk-container-id-3 div.sk-toggleable__content {max-height: 0;max-width: 0;overflow: hidden;text-align: left;background-color: #f0f8ff;}#sk-container-id-3 div.sk-toggleable__content pre {margin: 0.2em;color: black;border-radius: 0.25em;background-color: #f0f8ff;}#sk-container-id-3 input.sk-toggleable__control:checked~div.sk-toggleable__content {max-height: 200px;max-width: 100%;overflow: auto;}#sk-container-id-3 input.sk-toggleable__control:checked~label.sk-toggleable__label-arrow:before {content: \"▾\";}#sk-container-id-3 div.sk-estimator input.sk-toggleable__control:checked~label.sk-toggleable__label {background-color: #d4ebff;}#sk-container-id-3 div.sk-label input.sk-toggleable__control:checked~label.sk-toggleable__label {background-color: #d4ebff;}#sk-container-id-3 input.sk-hidden--visually {border: 0;clip: rect(1px 1px 1px 1px);clip: rect(1px, 1px, 1px, 1px);height: 1px;margin: -1px;overflow: hidden;padding: 0;position: absolute;width: 1px;}#sk-container-id-3 div.sk-estimator {font-family: monospace;background-color: #f0f8ff;border: 1px dotted black;border-radius: 0.25em;box-sizing: border-box;margin-bottom: 0.5em;}#sk-container-id-3 div.sk-estimator:hover {background-color: #d4ebff;}#sk-container-id-3 div.sk-parallel-item::after {content: \"\";width: 100%;border-bottom: 1px solid gray;flex-grow: 1;}#sk-container-id-3 div.sk-label:hover label.sk-toggleable__label {background-color: #d4ebff;}#sk-container-id-3 div.sk-serial::before {content: \"\";position: absolute;border-left: 1px solid gray;box-sizing: border-box;top: 0;bottom: 0;left: 50%;z-index: 0;}#sk-container-id-3 div.sk-serial {display: flex;flex-direction: column;align-items: center;background-color: white;padding-right: 0.2em;padding-left: 0.2em;position: relative;}#sk-container-id-3 div.sk-item {position: relative;z-index: 1;}#sk-container-id-3 div.sk-parallel {display: flex;align-items: stretch;justify-content: center;background-color: white;position: relative;}#sk-container-id-3 div.sk-item::before, #sk-container-id-3 div.sk-parallel-item::before {content: \"\";position: absolute;border-left: 1px solid gray;box-sizing: border-box;top: 0;bottom: 0;left: 50%;z-index: -1;}#sk-container-id-3 div.sk-parallel-item {display: flex;flex-direction: column;z-index: 1;position: relative;background-color: white;}#sk-container-id-3 div.sk-parallel-item:first-child::after {align-self: flex-end;width: 50%;}#sk-container-id-3 div.sk-parallel-item:last-child::after {align-self: flex-start;width: 50%;}#sk-container-id-3 div.sk-parallel-item:only-child::after {width: 0;}#sk-container-id-3 div.sk-dashed-wrapped {border: 1px dashed gray;margin: 0 0.4em 0.5em 0.4em;box-sizing: border-box;padding-bottom: 0.4em;background-color: white;}#sk-container-id-3 div.sk-label label {font-family: monospace;font-weight: bold;display: inline-block;line-height: 1.2em;}#sk-container-id-3 div.sk-label-container {text-align: center;}#sk-container-id-3 div.sk-container {/* jupyter's `normalize.less` sets `[hidden] { display: none; }` but bootstrap.min.css set `[hidden] { display: none !important; }` so we also need the `!important` here to be able to override the default hidden behavior on the sphinx rendered scikit-learn.org. See: https://github.com/scikit-learn/scikit-learn/issues/21755 */display: inline-block !important;position: relative;}#sk-container-id-3 div.sk-text-repr-fallback {display: none;}</style><div id=\"sk-container-id-3\" class=\"sk-top-container\"><div class=\"sk-text-repr-fallback\"><pre>XGBClassifier(base_score=None, booster=None, callbacks=None,\n",
       "              colsample_bylevel=None, colsample_bynode=None,\n",
       "              colsample_bytree=None, device=None, early_stopping_rounds=None,\n",
       "              enable_categorical=False, eval_metric=&#x27;logloss&#x27;,\n",
       "              feature_types=None, gamma=None, grow_policy=None,\n",
       "              importance_type=None, interaction_constraints=None,\n",
       "              learning_rate=None, max_bin=None, max_cat_threshold=None,\n",
       "              max_cat_to_onehot=None, max_delta_step=None, max_depth=None,\n",
       "              max_leaves=None, min_child_weight=None, missing=nan,\n",
       "              monotone_constraints=None, multi_strategy=None, n_estimators=None,\n",
       "              n_jobs=None, num_parallel_tree=None, random_state=42, ...)</pre><b>In a Jupyter environment, please rerun this cell to show the HTML representation or trust the notebook. <br />On GitHub, the HTML representation is unable to render, please try loading this page with nbviewer.org.</b></div><div class=\"sk-container\" hidden><div class=\"sk-item\"><div class=\"sk-estimator sk-toggleable\"><input class=\"sk-toggleable__control sk-hidden--visually\" id=\"sk-estimator-id-3\" type=\"checkbox\" checked><label for=\"sk-estimator-id-3\" class=\"sk-toggleable__label sk-toggleable__label-arrow\">XGBClassifier</label><div class=\"sk-toggleable__content\"><pre>XGBClassifier(base_score=None, booster=None, callbacks=None,\n",
       "              colsample_bylevel=None, colsample_bynode=None,\n",
       "              colsample_bytree=None, device=None, early_stopping_rounds=None,\n",
       "              enable_categorical=False, eval_metric=&#x27;logloss&#x27;,\n",
       "              feature_types=None, gamma=None, grow_policy=None,\n",
       "              importance_type=None, interaction_constraints=None,\n",
       "              learning_rate=None, max_bin=None, max_cat_threshold=None,\n",
       "              max_cat_to_onehot=None, max_delta_step=None, max_depth=None,\n",
       "              max_leaves=None, min_child_weight=None, missing=nan,\n",
       "              monotone_constraints=None, multi_strategy=None, n_estimators=None,\n",
       "              n_jobs=None, num_parallel_tree=None, random_state=42, ...)</pre></div></div></div></div></div>"
      ],
      "text/plain": [
       "XGBClassifier(base_score=None, booster=None, callbacks=None,\n",
       "              colsample_bylevel=None, colsample_bynode=None,\n",
       "              colsample_bytree=None, device=None, early_stopping_rounds=None,\n",
       "              enable_categorical=False, eval_metric='logloss',\n",
       "              feature_types=None, gamma=None, grow_policy=None,\n",
       "              importance_type=None, interaction_constraints=None,\n",
       "              learning_rate=None, max_bin=None, max_cat_threshold=None,\n",
       "              max_cat_to_onehot=None, max_delta_step=None, max_depth=None,\n",
       "              max_leaves=None, min_child_weight=None, missing=nan,\n",
       "              monotone_constraints=None, multi_strategy=None, n_estimators=None,\n",
       "              n_jobs=None, num_parallel_tree=None, random_state=42, ...)"
      ]
     },
     "execution_count": 9,
     "metadata": {},
     "output_type": "execute_result"
    }
   ],
   "source": [
    "from xgboost import XGBClassifier\n",
    "xgb_model = XGBClassifier(random_state=42, use_label_encoder=False, eval_metric='logloss')\n",
    "xgb_model.fit(X_train_tfidf, y_train)"
   ]
  },
  {
   "cell_type": "code",
   "execution_count": 10,
   "id": "1c3de034",
   "metadata": {
    "execution": {
     "iopub.execute_input": "2024-01-09T20:54:20.374220Z",
     "iopub.status.busy": "2024-01-09T20:54:20.373901Z",
     "iopub.status.idle": "2024-01-09T20:54:20.429002Z",
     "shell.execute_reply": "2024-01-09T20:54:20.428083Z"
    },
    "papermill": {
     "duration": 0.065803,
     "end_time": "2024-01-09T20:54:20.430977",
     "exception": false,
     "start_time": "2024-01-09T20:54:20.365174",
     "status": "completed"
    },
    "tags": []
   },
   "outputs": [
    {
     "name": "stdout",
     "output_type": "stream",
     "text": [
      "Accuracy: 0.9699042407660738\n",
      "Precision: 0.9724602203182374\n",
      "Recall: 0.9966845878136201\n",
      "Matthews Correlation Coefficient: 0.5823053755300048\n",
      "Hamming Loss: 0.030095759233926128\n",
      "Sensitivity (SEN): 0.9966845878136201\n",
      "Specificity (SPE): 0.4123134328358209\n",
      "Positive Predictive Value (PPV): 0.9724602203182374\n",
      "Negative Predictive Value (NPV): 0.8565891472868217\n"
     ]
    }
   ],
   "source": [
    "from sklearn.metrics import classification_report, accuracy_score, precision_score, recall_score, matthews_corrcoef, hamming_loss\n",
    "\n",
    "xgb_predictions = xgb_model.predict(X_test_tfidf)\n",
    "print(\"Accuracy:\", accuracy_score(y_test, predictions))\n",
    "print(\"Precision:\", precision_score(y_test, predictions))\n",
    "print(\"Recall:\", recall_score(y_test, predictions))\n",
    "print(\"Matthews Correlation Coefficient:\", matthews_corrcoef(y_test, predictions))\n",
    "print(\"Hamming Loss:\", hamming_loss(y_test, predictions))\n",
    "\n",
    "\n",
    "tn, fp, fn, tp = confusion_matrix(y_test, predictions).ravel()\n",
    "sen = tp / (tp + fn)  # Sensitivity\n",
    "spe = tn / (tn + fp)  # Specificity\n",
    "ppv = tp / (tp + fp)  # Positive Predictive Value\n",
    "npv = tn / (tn + fn)  # Negative Predictive Value\n",
    "\n",
    "print(\"Sensitivity (SEN):\", sen)\n",
    "print(\"Specificity (SPE):\", spe)\n",
    "print(\"Positive Predictive Value (PPV):\", ppv)\n",
    "print(\"Negative Predictive Value (NPV):\", npv)"
   ]
  },
  {
   "cell_type": "code",
   "execution_count": 11,
   "id": "1e4ecebc",
   "metadata": {
    "execution": {
     "iopub.execute_input": "2024-01-09T20:54:20.448365Z",
     "iopub.status.busy": "2024-01-09T20:54:20.448058Z",
     "iopub.status.idle": "2024-01-09T20:54:48.321307Z",
     "shell.execute_reply": "2024-01-09T20:54:48.320441Z"
    },
    "papermill": {
     "duration": 27.884337,
     "end_time": "2024-01-09T20:54:48.323448",
     "exception": false,
     "start_time": "2024-01-09T20:54:20.439111",
     "status": "completed"
    },
    "tags": []
   },
   "outputs": [
    {
     "data": {
      "text/html": [
       "<style>#sk-container-id-4 {color: black;background-color: white;}#sk-container-id-4 pre{padding: 0;}#sk-container-id-4 div.sk-toggleable {background-color: white;}#sk-container-id-4 label.sk-toggleable__label {cursor: pointer;display: block;width: 100%;margin-bottom: 0;padding: 0.3em;box-sizing: border-box;text-align: center;}#sk-container-id-4 label.sk-toggleable__label-arrow:before {content: \"▸\";float: left;margin-right: 0.25em;color: #696969;}#sk-container-id-4 label.sk-toggleable__label-arrow:hover:before {color: black;}#sk-container-id-4 div.sk-estimator:hover label.sk-toggleable__label-arrow:before {color: black;}#sk-container-id-4 div.sk-toggleable__content {max-height: 0;max-width: 0;overflow: hidden;text-align: left;background-color: #f0f8ff;}#sk-container-id-4 div.sk-toggleable__content pre {margin: 0.2em;color: black;border-radius: 0.25em;background-color: #f0f8ff;}#sk-container-id-4 input.sk-toggleable__control:checked~div.sk-toggleable__content {max-height: 200px;max-width: 100%;overflow: auto;}#sk-container-id-4 input.sk-toggleable__control:checked~label.sk-toggleable__label-arrow:before {content: \"▾\";}#sk-container-id-4 div.sk-estimator input.sk-toggleable__control:checked~label.sk-toggleable__label {background-color: #d4ebff;}#sk-container-id-4 div.sk-label input.sk-toggleable__control:checked~label.sk-toggleable__label {background-color: #d4ebff;}#sk-container-id-4 input.sk-hidden--visually {border: 0;clip: rect(1px 1px 1px 1px);clip: rect(1px, 1px, 1px, 1px);height: 1px;margin: -1px;overflow: hidden;padding: 0;position: absolute;width: 1px;}#sk-container-id-4 div.sk-estimator {font-family: monospace;background-color: #f0f8ff;border: 1px dotted black;border-radius: 0.25em;box-sizing: border-box;margin-bottom: 0.5em;}#sk-container-id-4 div.sk-estimator:hover {background-color: #d4ebff;}#sk-container-id-4 div.sk-parallel-item::after {content: \"\";width: 100%;border-bottom: 1px solid gray;flex-grow: 1;}#sk-container-id-4 div.sk-label:hover label.sk-toggleable__label {background-color: #d4ebff;}#sk-container-id-4 div.sk-serial::before {content: \"\";position: absolute;border-left: 1px solid gray;box-sizing: border-box;top: 0;bottom: 0;left: 50%;z-index: 0;}#sk-container-id-4 div.sk-serial {display: flex;flex-direction: column;align-items: center;background-color: white;padding-right: 0.2em;padding-left: 0.2em;position: relative;}#sk-container-id-4 div.sk-item {position: relative;z-index: 1;}#sk-container-id-4 div.sk-parallel {display: flex;align-items: stretch;justify-content: center;background-color: white;position: relative;}#sk-container-id-4 div.sk-item::before, #sk-container-id-4 div.sk-parallel-item::before {content: \"\";position: absolute;border-left: 1px solid gray;box-sizing: border-box;top: 0;bottom: 0;left: 50%;z-index: -1;}#sk-container-id-4 div.sk-parallel-item {display: flex;flex-direction: column;z-index: 1;position: relative;background-color: white;}#sk-container-id-4 div.sk-parallel-item:first-child::after {align-self: flex-end;width: 50%;}#sk-container-id-4 div.sk-parallel-item:last-child::after {align-self: flex-start;width: 50%;}#sk-container-id-4 div.sk-parallel-item:only-child::after {width: 0;}#sk-container-id-4 div.sk-dashed-wrapped {border: 1px dashed gray;margin: 0 0.4em 0.5em 0.4em;box-sizing: border-box;padding-bottom: 0.4em;background-color: white;}#sk-container-id-4 div.sk-label label {font-family: monospace;font-weight: bold;display: inline-block;line-height: 1.2em;}#sk-container-id-4 div.sk-label-container {text-align: center;}#sk-container-id-4 div.sk-container {/* jupyter's `normalize.less` sets `[hidden] { display: none; }` but bootstrap.min.css set `[hidden] { display: none !important; }` so we also need the `!important` here to be able to override the default hidden behavior on the sphinx rendered scikit-learn.org. See: https://github.com/scikit-learn/scikit-learn/issues/21755 */display: inline-block !important;position: relative;}#sk-container-id-4 div.sk-text-repr-fallback {display: none;}</style><div id=\"sk-container-id-4\" class=\"sk-top-container\"><div class=\"sk-text-repr-fallback\"><pre>DecisionTreeClassifier(random_state=42)</pre><b>In a Jupyter environment, please rerun this cell to show the HTML representation or trust the notebook. <br />On GitHub, the HTML representation is unable to render, please try loading this page with nbviewer.org.</b></div><div class=\"sk-container\" hidden><div class=\"sk-item\"><div class=\"sk-estimator sk-toggleable\"><input class=\"sk-toggleable__control sk-hidden--visually\" id=\"sk-estimator-id-4\" type=\"checkbox\" checked><label for=\"sk-estimator-id-4\" class=\"sk-toggleable__label sk-toggleable__label-arrow\">DecisionTreeClassifier</label><div class=\"sk-toggleable__content\"><pre>DecisionTreeClassifier(random_state=42)</pre></div></div></div></div></div>"
      ],
      "text/plain": [
       "DecisionTreeClassifier(random_state=42)"
      ]
     },
     "execution_count": 11,
     "metadata": {},
     "output_type": "execute_result"
    }
   ],
   "source": [
    "from sklearn.tree import DecisionTreeClassifier\n",
    "dt_model = DecisionTreeClassifier(random_state=42)\n",
    "dt_model.fit(X_train_tfidf, y_train)"
   ]
  },
  {
   "cell_type": "code",
   "execution_count": 12,
   "id": "23b9bc30",
   "metadata": {
    "execution": {
     "iopub.execute_input": "2024-01-09T20:54:48.341715Z",
     "iopub.status.busy": "2024-01-09T20:54:48.341319Z",
     "iopub.status.idle": "2024-01-09T20:54:48.376289Z",
     "shell.execute_reply": "2024-01-09T20:54:48.375398Z"
    },
    "papermill": {
     "duration": 0.046395,
     "end_time": "2024-01-09T20:54:48.378314",
     "exception": false,
     "start_time": "2024-01-09T20:54:48.331919",
     "status": "completed"
    },
    "tags": []
   },
   "outputs": [
    {
     "name": "stdout",
     "output_type": "stream",
     "text": [
      "Accuracy: 0.9699042407660738\n",
      "Precision: 0.9724602203182374\n",
      "Recall: 0.9966845878136201\n",
      "Matthews Correlation Coefficient: 0.5823053755300048\n",
      "Hamming Loss: 0.030095759233926128\n",
      "Sensitivity (SEN): 0.9966845878136201\n",
      "Specificity (SPE): 0.4123134328358209\n",
      "Positive Predictive Value (PPV): 0.9724602203182374\n",
      "Negative Predictive Value (NPV): 0.8565891472868217\n"
     ]
    }
   ],
   "source": [
    "from sklearn.metrics import classification_report, accuracy_score, precision_score, recall_score, matthews_corrcoef, hamming_loss\n",
    "\n",
    "dt_predictions = dt_model.predict(X_test_tfidf)\n",
    "print(\"Accuracy:\", accuracy_score(y_test, predictions))\n",
    "print(\"Precision:\", precision_score(y_test, predictions))\n",
    "print(\"Recall:\", recall_score(y_test, predictions))\n",
    "print(\"Matthews Correlation Coefficient:\", matthews_corrcoef(y_test, predictions))\n",
    "print(\"Hamming Loss:\", hamming_loss(y_test, predictions))\n",
    "\n",
    "\n",
    "tn, fp, fn, tp = confusion_matrix(y_test, predictions).ravel()\n",
    "sen = tp / (tp + fn)  # Sensitivity\n",
    "spe = tn / (tn + fp)  # Specificity\n",
    "ppv = tp / (tp + fp)  # Positive Predictive Value\n",
    "npv = tn / (tn + fn)  # Negative Predictive Value\n",
    "\n",
    "print(\"Sensitivity (SEN):\", sen)\n",
    "print(\"Specificity (SPE):\", spe)\n",
    "print(\"Positive Predictive Value (PPV):\", ppv)\n",
    "print(\"Negative Predictive Value (NPV):\", npv)"
   ]
  },
  {
   "cell_type": "code",
   "execution_count": 13,
   "id": "c4ac8606",
   "metadata": {
    "execution": {
     "iopub.execute_input": "2024-01-09T20:54:48.396052Z",
     "iopub.status.busy": "2024-01-09T20:54:48.395789Z",
     "iopub.status.idle": "2024-01-09T20:57:10.494775Z",
     "shell.execute_reply": "2024-01-09T20:57:10.493797Z"
    },
    "papermill": {
     "duration": 142.118422,
     "end_time": "2024-01-09T20:57:10.505232",
     "exception": false,
     "start_time": "2024-01-09T20:54:48.386810",
     "status": "completed"
    },
    "tags": []
   },
   "outputs": [
    {
     "data": {
      "text/html": [
       "<style>#sk-container-id-5 {color: black;background-color: white;}#sk-container-id-5 pre{padding: 0;}#sk-container-id-5 div.sk-toggleable {background-color: white;}#sk-container-id-5 label.sk-toggleable__label {cursor: pointer;display: block;width: 100%;margin-bottom: 0;padding: 0.3em;box-sizing: border-box;text-align: center;}#sk-container-id-5 label.sk-toggleable__label-arrow:before {content: \"▸\";float: left;margin-right: 0.25em;color: #696969;}#sk-container-id-5 label.sk-toggleable__label-arrow:hover:before {color: black;}#sk-container-id-5 div.sk-estimator:hover label.sk-toggleable__label-arrow:before {color: black;}#sk-container-id-5 div.sk-toggleable__content {max-height: 0;max-width: 0;overflow: hidden;text-align: left;background-color: #f0f8ff;}#sk-container-id-5 div.sk-toggleable__content pre {margin: 0.2em;color: black;border-radius: 0.25em;background-color: #f0f8ff;}#sk-container-id-5 input.sk-toggleable__control:checked~div.sk-toggleable__content {max-height: 200px;max-width: 100%;overflow: auto;}#sk-container-id-5 input.sk-toggleable__control:checked~label.sk-toggleable__label-arrow:before {content: \"▾\";}#sk-container-id-5 div.sk-estimator input.sk-toggleable__control:checked~label.sk-toggleable__label {background-color: #d4ebff;}#sk-container-id-5 div.sk-label input.sk-toggleable__control:checked~label.sk-toggleable__label {background-color: #d4ebff;}#sk-container-id-5 input.sk-hidden--visually {border: 0;clip: rect(1px 1px 1px 1px);clip: rect(1px, 1px, 1px, 1px);height: 1px;margin: -1px;overflow: hidden;padding: 0;position: absolute;width: 1px;}#sk-container-id-5 div.sk-estimator {font-family: monospace;background-color: #f0f8ff;border: 1px dotted black;border-radius: 0.25em;box-sizing: border-box;margin-bottom: 0.5em;}#sk-container-id-5 div.sk-estimator:hover {background-color: #d4ebff;}#sk-container-id-5 div.sk-parallel-item::after {content: \"\";width: 100%;border-bottom: 1px solid gray;flex-grow: 1;}#sk-container-id-5 div.sk-label:hover label.sk-toggleable__label {background-color: #d4ebff;}#sk-container-id-5 div.sk-serial::before {content: \"\";position: absolute;border-left: 1px solid gray;box-sizing: border-box;top: 0;bottom: 0;left: 50%;z-index: 0;}#sk-container-id-5 div.sk-serial {display: flex;flex-direction: column;align-items: center;background-color: white;padding-right: 0.2em;padding-left: 0.2em;position: relative;}#sk-container-id-5 div.sk-item {position: relative;z-index: 1;}#sk-container-id-5 div.sk-parallel {display: flex;align-items: stretch;justify-content: center;background-color: white;position: relative;}#sk-container-id-5 div.sk-item::before, #sk-container-id-5 div.sk-parallel-item::before {content: \"\";position: absolute;border-left: 1px solid gray;box-sizing: border-box;top: 0;bottom: 0;left: 50%;z-index: -1;}#sk-container-id-5 div.sk-parallel-item {display: flex;flex-direction: column;z-index: 1;position: relative;background-color: white;}#sk-container-id-5 div.sk-parallel-item:first-child::after {align-self: flex-end;width: 50%;}#sk-container-id-5 div.sk-parallel-item:last-child::after {align-self: flex-start;width: 50%;}#sk-container-id-5 div.sk-parallel-item:only-child::after {width: 0;}#sk-container-id-5 div.sk-dashed-wrapped {border: 1px dashed gray;margin: 0 0.4em 0.5em 0.4em;box-sizing: border-box;padding-bottom: 0.4em;background-color: white;}#sk-container-id-5 div.sk-label label {font-family: monospace;font-weight: bold;display: inline-block;line-height: 1.2em;}#sk-container-id-5 div.sk-label-container {text-align: center;}#sk-container-id-5 div.sk-container {/* jupyter's `normalize.less` sets `[hidden] { display: none; }` but bootstrap.min.css set `[hidden] { display: none !important; }` so we also need the `!important` here to be able to override the default hidden behavior on the sphinx rendered scikit-learn.org. See: https://github.com/scikit-learn/scikit-learn/issues/21755 */display: inline-block !important;position: relative;}#sk-container-id-5 div.sk-text-repr-fallback {display: none;}</style><div id=\"sk-container-id-5\" class=\"sk-top-container\"><div class=\"sk-text-repr-fallback\"><pre>GradientBoostingClassifier(random_state=42)</pre><b>In a Jupyter environment, please rerun this cell to show the HTML representation or trust the notebook. <br />On GitHub, the HTML representation is unable to render, please try loading this page with nbviewer.org.</b></div><div class=\"sk-container\" hidden><div class=\"sk-item\"><div class=\"sk-estimator sk-toggleable\"><input class=\"sk-toggleable__control sk-hidden--visually\" id=\"sk-estimator-id-5\" type=\"checkbox\" checked><label for=\"sk-estimator-id-5\" class=\"sk-toggleable__label sk-toggleable__label-arrow\">GradientBoostingClassifier</label><div class=\"sk-toggleable__content\"><pre>GradientBoostingClassifier(random_state=42)</pre></div></div></div></div></div>"
      ],
      "text/plain": [
       "GradientBoostingClassifier(random_state=42)"
      ]
     },
     "execution_count": 13,
     "metadata": {},
     "output_type": "execute_result"
    }
   ],
   "source": [
    "from sklearn.ensemble import GradientBoostingClassifier\n",
    "gb_model = GradientBoostingClassifier(random_state=42)\n",
    "gb_model.fit(X_train_tfidf, y_train)\n"
   ]
  },
  {
   "cell_type": "code",
   "execution_count": 14,
   "id": "5866fa3c",
   "metadata": {
    "execution": {
     "iopub.execute_input": "2024-01-09T20:57:10.522944Z",
     "iopub.status.busy": "2024-01-09T20:57:10.522649Z",
     "iopub.status.idle": "2024-01-09T20:57:10.582206Z",
     "shell.execute_reply": "2024-01-09T20:57:10.581089Z"
    },
    "papermill": {
     "duration": 0.070542,
     "end_time": "2024-01-09T20:57:10.584038",
     "exception": false,
     "start_time": "2024-01-09T20:57:10.513496",
     "status": "completed"
    },
    "tags": []
   },
   "outputs": [
    {
     "name": "stdout",
     "output_type": "stream",
     "text": [
      "Accuracy: 0.9699042407660738\n",
      "Precision: 0.9724602203182374\n",
      "Recall: 0.9966845878136201\n",
      "Matthews Correlation Coefficient: 0.5823053755300048\n",
      "Hamming Loss: 0.030095759233926128\n",
      "Sensitivity (SEN): 0.9966845878136201\n",
      "Specificity (SPE): 0.4123134328358209\n",
      "Positive Predictive Value (PPV): 0.9724602203182374\n",
      "Negative Predictive Value (NPV): 0.8565891472868217\n"
     ]
    }
   ],
   "source": [
    "from sklearn.metrics import classification_report, accuracy_score, precision_score, recall_score, matthews_corrcoef, hamming_loss\n",
    "\n",
    "gb_predictions = gb_model.predict(X_test_tfidf)\n",
    "print(\"Accuracy:\", accuracy_score(y_test, predictions))\n",
    "print(\"Precision:\", precision_score(y_test, predictions))\n",
    "print(\"Recall:\", recall_score(y_test, predictions))\n",
    "print(\"Matthews Correlation Coefficient:\", matthews_corrcoef(y_test, predictions))\n",
    "print(\"Hamming Loss:\", hamming_loss(y_test, predictions))\n",
    "\n",
    "\n",
    "tn, fp, fn, tp = confusion_matrix(y_test, predictions).ravel()\n",
    "sen = tp / (tp + fn)  # Sensitivity\n",
    "spe = tn / (tn + fp)  # Specificity\n",
    "ppv = tp / (tp + fp)  # Positive Predictive Value\n",
    "npv = tn / (tn + fn)  # Negative Predictive Value\n",
    "\n",
    "print(\"Sensitivity (SEN):\", sen)\n",
    "print(\"Specificity (SPE):\", spe)\n",
    "print(\"Positive Predictive Value (PPV):\", ppv)\n",
    "print(\"Negative Predictive Value (NPV):\", npv)"
   ]
  },
  {
   "cell_type": "code",
   "execution_count": 15,
   "id": "edf72d78",
   "metadata": {
    "execution": {
     "iopub.execute_input": "2024-01-09T20:57:10.602560Z",
     "iopub.status.busy": "2024-01-09T20:57:10.602270Z",
     "iopub.status.idle": "2024-01-09T21:15:37.839675Z",
     "shell.execute_reply": "2024-01-09T21:15:37.838695Z"
    },
    "papermill": {
     "duration": 1107.257722,
     "end_time": "2024-01-09T21:15:37.850542",
     "exception": false,
     "start_time": "2024-01-09T20:57:10.592820",
     "status": "completed"
    },
    "tags": []
   },
   "outputs": [
    {
     "name": "stdout",
     "output_type": "stream",
     "text": [
      "Accuracy: 0.9699042407660738\n",
      "Precision: 0.9724602203182374\n",
      "Recall: 0.9966845878136201\n",
      "Matthews Correlation Coefficient: 0.5823053755300048\n",
      "Hamming Loss: 0.030095759233926128\n",
      "Sensitivity (SEN): 0.9966845878136201\n",
      "Specificity (SPE): 0.4123134328358209\n",
      "Positive Predictive Value (PPV): 0.9724602203182374\n",
      "Negative Predictive Value (NPV): 0.8565891472868217\n"
     ]
    }
   ],
   "source": [
    "from sklearn.neighbors import KNeighborsClassifier\n",
    "knn_model = KNeighborsClassifier()\n",
    "knn_model.fit(X_train_tfidf, y_train)\n",
    "from sklearn.metrics import classification_report, accuracy_score, precision_score, recall_score, matthews_corrcoef, hamming_loss\n",
    "\n",
    "knn_predictions = knn_model.predict(X_test_tfidf)\n",
    "print(\"Accuracy:\", accuracy_score(y_test, predictions))\n",
    "print(\"Precision:\", precision_score(y_test, predictions))\n",
    "print(\"Recall:\", recall_score(y_test, predictions))\n",
    "print(\"Matthews Correlation Coefficient:\", matthews_corrcoef(y_test, predictions))\n",
    "print(\"Hamming Loss:\", hamming_loss(y_test, predictions))\n",
    "\n",
    "\n",
    "tn, fp, fn, tp = confusion_matrix(y_test, predictions).ravel()\n",
    "sen = tp / (tp + fn)  # Sensitivity\n",
    "spe = tn / (tn + fp)  # Specificity\n",
    "ppv = tp / (tp + fp)  # Positive Predictive Value\n",
    "npv = tn / (tn + fn)  # Negative Predictive Value\n",
    "\n",
    "print(\"Sensitivity (SEN):\", sen)\n",
    "print(\"Specificity (SPE):\", spe)\n",
    "print(\"Positive Predictive Value (PPV):\", ppv)\n",
    "print(\"Negative Predictive Value (NPV):\", npv)"
   ]
  },
  {
   "cell_type": "code",
   "execution_count": 16,
   "id": "6edc5497",
   "metadata": {
    "execution": {
     "iopub.execute_input": "2024-01-09T21:15:37.869246Z",
     "iopub.status.busy": "2024-01-09T21:15:37.868898Z",
     "iopub.status.idle": "2024-01-09T21:16:09.660402Z",
     "shell.execute_reply": "2024-01-09T21:16:09.659441Z"
    },
    "papermill": {
     "duration": 31.812144,
     "end_time": "2024-01-09T21:16:09.671324",
     "exception": false,
     "start_time": "2024-01-09T21:15:37.859180",
     "status": "completed"
    },
    "tags": []
   },
   "outputs": [
    {
     "name": "stdout",
     "output_type": "stream",
     "text": [
      "Accuracy: 0.9699042407660738\n",
      "Precision: 0.9724602203182374\n",
      "Recall: 0.9966845878136201\n",
      "Matthews Correlation Coefficient: 0.5823053755300048\n",
      "Hamming Loss: 0.030095759233926128\n",
      "Sensitivity (SEN): 0.9966845878136201\n",
      "Specificity (SPE): 0.4123134328358209\n",
      "Positive Predictive Value (PPV): 0.9724602203182374\n",
      "Negative Predictive Value (NPV): 0.8565891472868217\n"
     ]
    }
   ],
   "source": [
    "from sklearn.ensemble import AdaBoostClassifier\n",
    "adaboost_model = AdaBoostClassifier(random_state=42)\n",
    "adaboost_model.fit(X_train_tfidf, y_train)\n",
    "from sklearn.metrics import classification_report, accuracy_score, precision_score, recall_score, matthews_corrcoef, hamming_loss\n",
    "\n",
    "adaboost_predictions = adaboost_model.predict(X_test_tfidf)\n",
    "print(\"Accuracy:\", accuracy_score(y_test, predictions))\n",
    "print(\"Precision:\", precision_score(y_test, predictions))\n",
    "print(\"Recall:\", recall_score(y_test, predictions))\n",
    "print(\"Matthews Correlation Coefficient:\", matthews_corrcoef(y_test, predictions))\n",
    "print(\"Hamming Loss:\", hamming_loss(y_test, predictions))\n",
    "\n",
    "\n",
    "tn, fp, fn, tp = confusion_matrix(y_test, predictions).ravel()\n",
    "sen = tp / (tp + fn)  # Sensitivity\n",
    "spe = tn / (tn + fp)  # Specificity\n",
    "ppv = tp / (tp + fp)  # Positive Predictive Value\n",
    "npv = tn / (tn + fn)  # Negative Predictive Value\n",
    "\n",
    "print(\"Sensitivity (SEN):\", sen)\n",
    "print(\"Specificity (SPE):\", spe)\n",
    "print(\"Positive Predictive Value (PPV):\", ppv)\n",
    "print(\"Negative Predictive Value (NPV):\", npv)"
   ]
  },
  {
   "cell_type": "code",
   "execution_count": 17,
   "id": "0eae9756",
   "metadata": {
    "execution": {
     "iopub.execute_input": "2024-01-09T21:16:09.691156Z",
     "iopub.status.busy": "2024-01-09T21:16:09.690536Z",
     "iopub.status.idle": "2024-01-09T21:16:09.841983Z",
     "shell.execute_reply": "2024-01-09T21:16:09.840969Z"
    },
    "papermill": {
     "duration": 0.163802,
     "end_time": "2024-01-09T21:16:09.844153",
     "exception": false,
     "start_time": "2024-01-09T21:16:09.680351",
     "status": "completed"
    },
    "tags": []
   },
   "outputs": [
    {
     "name": "stdout",
     "output_type": "stream",
     "text": [
      "Accuracy: 0.9699042407660738\n",
      "Precision: 0.9724602203182374\n",
      "Recall: 0.9966845878136201\n",
      "Matthews Correlation Coefficient: 0.5823053755300048\n",
      "Hamming Loss: 0.030095759233926128\n",
      "Sensitivity (SEN): 0.9966845878136201\n",
      "Specificity (SPE): 0.4123134328358209\n",
      "Positive Predictive Value (PPV): 0.9724602203182374\n",
      "Negative Predictive Value (NPV): 0.8565891472868217\n"
     ]
    }
   ],
   "source": [
    "from sklearn.linear_model import SGDClassifier\n",
    "sgd_model = SGDClassifier(random_state=42)\n",
    "sgd_model.fit(X_train_tfidf, y_train)\n",
    "from sklearn.metrics import classification_report, accuracy_score, precision_score, recall_score, matthews_corrcoef, hamming_loss\n",
    "\n",
    "sgd_predictions = sgd_model.predict(X_test_tfidf)\n",
    "print(\"Accuracy:\", accuracy_score(y_test, predictions))\n",
    "print(\"Precision:\", precision_score(y_test, predictions))\n",
    "print(\"Recall:\", recall_score(y_test, predictions))\n",
    "print(\"Matthews Correlation Coefficient:\", matthews_corrcoef(y_test, predictions))\n",
    "print(\"Hamming Loss:\", hamming_loss(y_test, predictions))\n",
    "\n",
    "\n",
    "tn, fp, fn, tp = confusion_matrix(y_test, predictions).ravel()\n",
    "sen = tp / (tp + fn)  # Sensitivity\n",
    "spe = tn / (tn + fp)  # Specificity\n",
    "ppv = tp / (tp + fp)  # Positive Predictive Value\n",
    "npv = tn / (tn + fn)  # Negative Predictive Value\n",
    "\n",
    "print(\"Sensitivity (SEN):\", sen)\n",
    "print(\"Specificity (SPE):\", spe)\n",
    "print(\"Positive Predictive Value (PPV):\", ppv)\n",
    "print(\"Negative Predictive Value (NPV):\", npv)"
   ]
  },
  {
   "cell_type": "code",
   "execution_count": 18,
   "id": "1c699ddd",
   "metadata": {
    "execution": {
     "iopub.execute_input": "2024-01-09T21:16:09.863933Z",
     "iopub.status.busy": "2024-01-09T21:16:09.863644Z",
     "iopub.status.idle": "2024-01-09T21:16:10.281076Z",
     "shell.execute_reply": "2024-01-09T21:16:10.280171Z"
    },
    "papermill": {
     "duration": 0.430263,
     "end_time": "2024-01-09T21:16:10.283440",
     "exception": false,
     "start_time": "2024-01-09T21:16:09.853177",
     "status": "completed"
    },
    "tags": []
   },
   "outputs": [
    {
     "name": "stdout",
     "output_type": "stream",
     "text": [
      "Accuracy: 0.9699042407660738\n",
      "Precision: 0.9724602203182374\n",
      "Recall: 0.9966845878136201\n",
      "Matthews Correlation Coefficient: 0.5823053755300048\n",
      "Hamming Loss: 0.030095759233926128\n",
      "Sensitivity (SEN): 0.9966845878136201\n",
      "Specificity (SPE): 0.4123134328358209\n",
      "Positive Predictive Value (PPV): 0.9724602203182374\n",
      "Negative Predictive Value (NPV): 0.8565891472868217\n"
     ]
    }
   ],
   "source": [
    "from sklearn.svm import LinearSVC\n",
    "linear_svc_model = LinearSVC(random_state=42)\n",
    "linear_svc_model.fit(X_train_tfidf, y_train)\n",
    "from sklearn.metrics import classification_report, accuracy_score, precision_score, recall_score, matthews_corrcoef, hamming_loss\n",
    "\n",
    "linear_svc_predictions = linear_svc_model.predict(X_test_tfidf)\n",
    "print(\"Accuracy:\", accuracy_score(y_test, predictions))\n",
    "print(\"Precision:\", precision_score(y_test, predictions))\n",
    "print(\"Recall:\", recall_score(y_test, predictions))\n",
    "print(\"Matthews Correlation Coefficient:\", matthews_corrcoef(y_test, predictions))\n",
    "print(\"Hamming Loss:\", hamming_loss(y_test, predictions))\n",
    "\n",
    "\n",
    "tn, fp, fn, tp = confusion_matrix(y_test, predictions).ravel()\n",
    "sen = tp / (tp + fn)  # Sensitivity\n",
    "spe = tn / (tn + fp)  # Specificity\n",
    "ppv = tp / (tp + fp)  # Positive Predictive Value\n",
    "npv = tn / (tn + fn)  # Negative Predictive Value\n",
    "\n",
    "print(\"Sensitivity (SEN):\", sen)\n",
    "print(\"Specificity (SPE):\", spe)\n",
    "print(\"Positive Predictive Value (PPV):\", ppv)\n",
    "print(\"Negative Predictive Value (NPV):\", npv)"
   ]
  },
  {
   "cell_type": "code",
   "execution_count": 19,
   "id": "06dcf374",
   "metadata": {
    "execution": {
     "iopub.execute_input": "2024-01-09T21:16:10.304325Z",
     "iopub.status.busy": "2024-01-09T21:16:10.303977Z",
     "iopub.status.idle": "2024-01-09T21:16:10.684062Z",
     "shell.execute_reply": "2024-01-09T21:16:10.683156Z"
    },
    "papermill": {
     "duration": 0.392749,
     "end_time": "2024-01-09T21:16:10.686256",
     "exception": false,
     "start_time": "2024-01-09T21:16:10.293507",
     "status": "completed"
    },
    "tags": []
   },
   "outputs": [
    {
     "data": {
      "image/png": "[encoded data removed]",
      "text/plain": [
       "<Figure size 640x480 with 1 Axes>"
      ]
     },
     "metadata": {},
     "output_type": "display_data"
    }
   ],
   "source": [
    "from sklearn.feature_selection import chi2\n",
    "import numpy as np\n",
    "chi2_values, p_values = chi2(X_train_tfidf, y_train)\n",
    "sorted_indices = np.argsort(p_values)\n",
    "sorted_p_values = p_values[sorted_indices]\n",
    "accumulated_features = np.cumsum(sorted_p_values < 0.05)\n",
    "import matplotlib.pyplot as plt\n",
    "plt.plot(accumulated_features)\n",
    "plt.xlabel('Number of Features')\n",
    "plt.ylabel('Number of Features with p-value < 0.05')\n",
    "plt.title('Relationship Between Number of Accumulated Features and p-value < 0.05')\n",
    "plt.grid(True)\n",
    "plt.show()\n"
   ]
  },
  {
   "cell_type": "code",
   "execution_count": 20,
   "id": "e94975bf",
   "metadata": {
    "execution": {
     "iopub.execute_input": "2024-01-09T21:16:10.707091Z",
     "iopub.status.busy": "2024-01-09T21:16:10.706762Z",
     "iopub.status.idle": "2024-01-09T21:16:10.964426Z",
     "shell.execute_reply": "2024-01-09T21:16:10.963683Z"
    },
    "papermill": {
     "duration": 0.270706,
     "end_time": "2024-01-09T21:16:10.966868",
     "exception": false,
     "start_time": "2024-01-09T21:16:10.696162",
     "status": "completed"
    },
    "tags": []
   },
   "outputs": [
    {
     "data": {
      "image/png": "[encoded data removed]",
      "text/plain": [
       "<Figure size 640x480 with 1 Axes>"
      ]
     },
     "metadata": {},
     "output_type": "display_data"
    }
   ],
   "source": [
    "from sklearn.feature_selection import chi2\n",
    "import numpy as np\n",
    "chi2_values, p_values = chi2(X_train_tfidf, y_train)\n",
    "sorted_indices = np.argsort(p_values)\n",
    "sorted_p_values = p_values[sorted_indices]\n",
    "accumulated_features = np.cumsum(sorted_p_values < 0.1)\n",
    "import matplotlib.pyplot as plt\n",
    "plt.plot(accumulated_features)\n",
    "plt.xlabel('Number of Features')\n",
    "plt.ylabel('Number of Features with p-value < 0.05')\n",
    "plt.title('Relationship Between Number of Accumulated Features and p-value < 0.05')\n",
    "plt.grid(True)\n",
    "plt.show()\n"
   ]
  },
  {
   "cell_type": "code",
   "execution_count": null,
   "id": "3dfae005",
   "metadata": {
    "papermill": {
     "duration": 0.009895,
     "end_time": "2024-01-09T21:16:10.986984",
     "exception": false,
     "start_time": "2024-01-09T21:16:10.977089",
     "status": "completed"
    },
    "tags": []
   },
   "outputs": [],
   "source": []
  }
 ],
 "metadata": {
  "kaggle": {
   "accelerator": "gpu",
   "dataSources": [
    {
     "datasetId": 618408,
     "sourceId": 2009678,
     "sourceType": "datasetVersion"
    },
    {
     "datasetId": 4283406,
     "sourceId": 7372071,
     "sourceType": "datasetVersion"
    }
   ],
   "dockerImageVersionId": 30627,
   "isGpuEnabled": true,
   "isInternetEnabled": true,
   "language": "python",
   "sourceType": "notebook"
  },
  "kernelspec": {
   "display_name": "Python 3",
   "language": "python",
   "name": "python3"
  },
  "language_info": {
   "codemirror_mode": {
    "name": "ipython",
    "version": 3
   },
   "file_extension": ".py",
   "mimetype": "text/x-python",
   "name": "python",
   "nbconvert_exporter": "python",
   "pygments_lexer": "ipython3",
   "version": "3.10.12"
  },
  "papermill": {
   "default_parameters": {},
   "duration": 1926.761383,
   "end_time": "2024-01-09T21:16:11.521433",
   "environment_variables": {},
   "exception": null,
   "input_path": "__notebook__.ipynb",
   "output_path": "__notebook__.ipynb",
   "parameters": {},
   "start_time": "2024-01-09T20:44:04.760050",
   "version": "2.4.0"
  }
 },
 "nbformat": 4,
 "nbformat_minor": 5
}
