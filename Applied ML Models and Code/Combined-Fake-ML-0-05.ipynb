{
 "cells": [
  {
   "cell_type": "code",
   "execution_count": 1,
   "id": "5fa0343e",
   "metadata": {
    "execution": {
     "iopub.execute_input": "2024-01-09T17:36:33.845647Z",
     "iopub.status.busy": "2024-01-09T17:36:33.845272Z",
     "iopub.status.idle": "2024-01-09T17:36:34.710714Z",
     "shell.execute_reply": "2024-01-09T17:36:34.709883Z"
    },
    "papermill": {
     "duration": 0.875722,
     "end_time": "2024-01-09T17:36:34.713160",
     "exception": false,
     "start_time": "2024-01-09T17:36:33.837438",
     "status": "completed"
    },
    "tags": []
   },
   "outputs": [
    {
     "name": "stderr",
     "output_type": "stream",
     "text": [
      "/opt/conda/lib/python3.10/site-packages/scipy/__init__.py:146: UserWarning: A NumPy version >=1.16.5 and <1.23.0 is required for this version of SciPy (detected version 1.24.3\n",
      "  warnings.warn(f\"A NumPy version >={np_minversion} and <{np_maxversion}\"\n"
     ]
    }
   ],
   "source": [
    "from sklearn.metrics import classification_report, accuracy_score, precision_score, recall_score, matthews_corrcoef, hamming_loss"
   ]
  },
  {
   "cell_type": "code",
   "execution_count": 2,
   "id": "bd6120fe",
   "metadata": {
    "execution": {
     "iopub.execute_input": "2024-01-09T17:36:34.727608Z",
     "iopub.status.busy": "2024-01-09T17:36:34.726735Z",
     "iopub.status.idle": "2024-01-09T17:36:41.250286Z",
     "shell.execute_reply": "2024-01-09T17:36:41.249334Z"
    },
    "papermill": {
     "duration": 6.533482,
     "end_time": "2024-01-09T17:36:41.253066",
     "exception": false,
     "start_time": "2024-01-09T17:36:34.719584",
     "status": "completed"
    },
    "tags": []
   },
   "outputs": [
    {
     "data": {
      "text/plain": [
       "{'/kaggle/input/banfakenews/Authentic-48K.csv':    articleID          domain                 date   category  \\\n",
       " 0          1  jagonews24.com  2018-09-19 17:48:18  Education   \n",
       " 1          2  jagonews24.com  2018-09-19 17:48:19   National   \n",
       " 2          3  jagonews24.com  2018-09-19 17:48:20   National   \n",
       " 3          4  jagonews24.com  2018-09-19 17:48:21      Crime   \n",
       " 4          5  jagonews24.com  2018-09-19 17:48:21   National   \n",
       " \n",
       "                                             headline  \\\n",
       " 0   হট্টগোল করায় বাকৃবিতে দুইজন বরখাস্ত, ৬ জনকে শোকজ   \n",
       " 1    মালয়েশিয়ায় কর্মী পাঠানোর ব্যবস্থা নেয়ার সুপারিশ   \n",
       " 2  প্রেমের প্রস্তাবে রাজি না হওয়ায় স্কুলছাত্রীকে ...   \n",
       " 3  মেডিয়েশনই মামলাজট নিরসনের পথ : বিচারপতি আহমেদ ...   \n",
       " 4         টকশোতে বক্তব্য দিতে গিয়ে জাপা নেতার মৃত্যু   \n",
       " \n",
       "                                              content  label  \n",
       " 0  গত ১৭ সেপ্টেম্বর বাংলাদেশ কৃষি বিশ্ববিদ্যালয়ে ...      1  \n",
       " 1  বাংলাদেশের বৃহৎ শ্রমবাজার মালয়েশিয়ায় আবার শ্রম...      1  \n",
       " 2  নরসিংদীর মনোহরদীতে প্রেমের প্রস্তাবে রাজি না হ...      1  \n",
       " 3  সুপ্রিম কোর্টের হাইকোর্ট বিভাগের বিচারপতি আহমে...      1  \n",
       " 4  মাদারীপুর সদরের উপজেলার লেকেরপাড়ে একটি বেসরকার...      1  ,\n",
       " '/kaggle/input/banfakenews/Fake-1K.csv':    articleID                    domain                        date  \\\n",
       " 0          1         channeldhaka.news   2019-03-14T13:34:14+00:00   \n",
       " 1          2                 earki.com            সেম্বর ১৭, ২০১৮    \n",
       " 2          3                 earki.com  ২০:৩৯, জানুয়ারি ১৪, ২০১৯    \n",
       " 3          4         channeldhaka.news   2018-06-30T15:56:47+00:00   \n",
       " 4          5  motikontho.wordpress.com   2013-03-05T21:55:45+00:00   \n",
       " \n",
       "         category                                           headline  \\\n",
       " 0  International                           মুরগির হামলায় শেয়াল নিহত   \n",
       " 1  Miscellaneous            বিটিভিতে যেবার আমি ইন্টারভিউ দিতে গেলাম   \n",
       " 2  Miscellaneous  বিদেশ থেকে উন্নতমানের বিরোধীদল আমদানি করার পরা...   \n",
       " 3         Sports                      অবসর নেয়ার ঘোষণা দিলেন মেসি !   \n",
       " 4  Miscellaneous  মাদারফাকার নহে, ব্রাদারফাকার: সাকা | দৈনিক মতি...   \n",
       " \n",
       "                                              content  label  \n",
       " 0  বাংলায় একটা প্রবাদ আছে, শেয়ালের কাছে মুরগী বর্...      0  \n",
       " 1  BTV থেকে লোকজন আসছে, ইন্টারভিউ নিবে।চারজনের টি...      0  \n",
       " 2  অদ্ভুত বিরোধীদলহীনতায় ভুগছে সরকার। এ এক অন্যরক...      0  \n",
       " 3  রাশিয়া বিশ্বকাপ নকআউট পর্বে ফ্রান্সের সাথে ৪-৩...      0  \n",
       " 4  নিজস্ব মতিবেদক‘মাদারফাকার নহে, আমি ব্রাদারফাকা...      0  ,\n",
       " '/kaggle/input/banfakenews/LabeledAuthentic-7K.csv':    articleID           domain                 date  category  \\\n",
       " 0          1  bd-pratidin.com  2018-09-20 08:16:43    Sports   \n",
       " 1          2     jugantor.com  2018-09-20 20:20:20    Sports   \n",
       " 2          3     bd24live.com  2018-09-20 16:39:40  National   \n",
       " 3          4     bd24live.com  2018-09-19 18:27:56  National   \n",
       " 4          5     somoynews.tv  2018-09-20 10:15:28   Finance   \n",
       " \n",
       "                                source relation  \\\n",
       " 0  আফগান ক্রিকেট বোর্ড (এসিবি) প্রধান  Related   \n",
       " 1                            Reporter  Related   \n",
       " 2                            Reporter  Related   \n",
       " 3            জননিরাপত্তা বিভাগের সচিব  Related   \n",
       " 4    পেট্রোল পাম্প মালিক সমিতি সভাপতি  Related   \n",
       " \n",
       "                                             headline  \\\n",
       " 0          হঠাৎ আফগান ক্রিকেট বোর্ড প্রধানের পদত্যাগ   \n",
       " 1                           টস হেরে বোলিংয়ে বাংলাদেশ   \n",
       " 2                     রাজধানীতে বিশেষ অভিযানে আটক ৪৩   \n",
       " 3  উস্কানি রোধে নজরদারি থাকবে সামাজিক যোগাযোগ মাধ...   \n",
       " 4     'যেখানে তেল আসত ৭ দিনে, এখন তা আসবে অতি দ্রুত'   \n",
       " \n",
       "                                              content  label  \n",
       " 0  ক্রিকেট বিশ্বের নতুন চমকের নাম আফগানিস্তান। কয়...    1.0  \n",
       " 1  এশিয়া কাপের ষষ্ঠ ম্যাচে বাংলাদেশ দলের বিপক্ষে ...    1.0  \n",
       " 2  রাজধানীতে মাদক বিরোধী বিশেষ অভিযান পরিচালনা কর...    1.0  \n",
       " 3  সনাতন ধর্মাবলম্বীদের সবচেয়ে বড় ধর্মীয় উৎসব দুর...    1.0  \n",
       " 4  ভারত থেকে পাইপ লাইনের মাধ্যমে সরাসরি দেশে জ্বা...    1.0  ,\n",
       " '/kaggle/input/banfakenews/LabeledFake-1K.csv':    articleID                    domain                        date  \\\n",
       " 0          1         channeldhaka.news   2019-03-14T13:34:14+00:00   \n",
       " 1          2                 earki.com            সেম্বর ১৭, ২০১৮    \n",
       " 2          3                 earki.com  ২০:৩৯, জানুয়ারি ১৪, ২০১৯    \n",
       " 3          4         channeldhaka.news   2018-06-30T15:56:47+00:00   \n",
       " 4          5  motikontho.wordpress.com   2013-03-05T21:55:45+00:00   \n",
       " \n",
       "         category    source   relation  \\\n",
       " 0  International  Reporter  Unrelated   \n",
       " 1  Miscellaneous  Reporter  Unrelated   \n",
       " 2  Miscellaneous  Reporter  Unrelated   \n",
       " 3         Sports  Reporter  Unrelated   \n",
       " 4  Miscellaneous  Reporter  Unrelated   \n",
       " \n",
       "                                             headline  \\\n",
       " 0                           মুরগির হামলায় শেয়াল নিহত   \n",
       " 1            বিটিভিতে যেবার আমি ইন্টারভিউ দিতে গেলাম   \n",
       " 2  বিদেশ থেকে উন্নতমানের বিরোধীদল আমদানি করার পরা...   \n",
       " 3                      অবসর নেয়ার ঘোষণা দিলেন মেসি !   \n",
       " 4  মাদারফাকার নহে, ব্রাদারফাকার: সাকা | দৈনিক মতি...   \n",
       " \n",
       "                                              content  label  F-type  \n",
       " 0  বাংলায় একটা প্রবাদ আছে, শেয়ালের কাছে মুরগী বর্...      0  Satire  \n",
       " 1  BTV থেকে লোকজন আসছে, ইন্টারভিউ নিবে।চারজনের টি...      0  Satire  \n",
       " 2  অদ্ভুত বিরোধীদলহীনতায় ভুগছে সরকার। এ এক অন্যরক...      0  Satire  \n",
       " 3  রাশিয়া বিশ্বকাপ নকআউট পর্বে ফ্রান্সের সাথে ৪-৩...      0  Satire  \n",
       " 4  নিজস্ব মতিবেদক‘মাদারফাকার নহে, আমি ব্রাদারফাকা...      0  Satire  }"
      ]
     },
     "execution_count": 2,
     "metadata": {},
     "output_type": "execute_result"
    }
   ],
   "source": [
    "import pandas as pd\n",
    "\n",
    "# Load the files into pandas DataFrames\n",
    "file_paths = [\n",
    "    \"/kaggle/input/banfakenews/Authentic-48K.csv\",\n",
    "    \"/kaggle/input/banfakenews/Fake-1K.csv\",\n",
    "    \"/kaggle/input/banfakenews/LabeledAuthentic-7K.csv\",\n",
    "    \"/kaggle/input/banfakenews/LabeledFake-1K.csv\"\n",
    "]\n",
    "\n",
    "\n",
    "dataframes = {file_path: pd.read_csv(file_path) for file_path in file_paths}\n",
    "first_rows = {file_path: df.head() for file_path, df in dataframes.items()}\n",
    "first_rows\n"
   ]
  },
  {
   "cell_type": "markdown",
   "id": "bf43c0cd",
   "metadata": {
    "papermill": {
     "duration": 0.006929,
     "end_time": "2024-01-09T17:36:41.266615",
     "exception": false,
     "start_time": "2024-01-09T17:36:41.259686",
     "status": "completed"
    },
    "tags": []
   },
   "source": [
    "# With 0.05 feature extraction significance level.\n"
   ]
  },
  {
   "cell_type": "markdown",
   "id": "53b6a583",
   "metadata": {
    "papermill": {
     "duration": 0.00599,
     "end_time": "2024-01-09T17:36:41.278991",
     "exception": false,
     "start_time": "2024-01-09T17:36:41.273001",
     "status": "completed"
    },
    "tags": []
   },
   "source": [
    "# Logistic Regression with 0.05 feature extraction"
   ]
  },
  {
   "cell_type": "code",
   "execution_count": 3,
   "id": "99b270e0",
   "metadata": {
    "execution": {
     "iopub.execute_input": "2024-01-09T17:36:41.293450Z",
     "iopub.status.busy": "2024-01-09T17:36:41.292672Z",
     "iopub.status.idle": "2024-01-09T17:37:01.427707Z",
     "shell.execute_reply": "2024-01-09T17:37:01.426617Z"
    },
    "papermill": {
     "duration": 20.144935,
     "end_time": "2024-01-09T17:37:01.430073",
     "exception": false,
     "start_time": "2024-01-09T17:36:41.285138",
     "status": "completed"
    },
    "tags": []
   },
   "outputs": [],
   "source": [
    "from sklearn.model_selection import train_test_split\n",
    "from sklearn.feature_extraction.text import TfidfVectorizer\n",
    "from sklearn.linear_model import LogisticRegression\n",
    "from sklearn.metrics import classification_report, confusion_matrix\n",
    "\n",
    "authentic_df = pd.concat([dataframes[\"/kaggle/input/banfakenews/Authentic-48K.csv\"], dataframes[\"/kaggle/input/banfakenews/LabeledAuthentic-7K.csv\"]])\n",
    "fake_df = pd.concat([dataframes[\"/kaggle/input/banfakenews/Fake-1K.csv\"], dataframes[\"/kaggle/input/banfakenews/LabeledFake-1K.csv\"]])\n",
    "\n",
    "authentic_df['label'] = 1\n",
    "fake_df['label'] = 0\n",
    "\n",
    "combined_df = pd.concat([authentic_df, fake_df])\n",
    "\n",
    "X = combined_df['content'].fillna(\"\") \n",
    "y = combined_df['label']\n",
    "\n",
    "\n",
    "X_train, X_test, y_train, y_test = train_test_split(X, y, test_size=0.2, random_state=42)\n",
    "\n",
    "vectorizer = TfidfVectorizer(max_df=0.95, min_df=0.05)  # Applying the 0.05 feature extraction threshold\n",
    "X_train_tfidf = vectorizer.fit_transform(X_train)\n",
    "X_test_tfidf = vectorizer.transform(X_test)\n",
    "\n",
    "log_reg_model = LogisticRegression(random_state=42)\n",
    "log_reg_model.fit(X_train_tfidf, y_train)\n",
    "\n",
    "predictions = log_reg_model.predict(X_test_tfidf)\n",
    "evaluation_report = classification_report(y_test, predictions)\n",
    "conf_matrix = confusion_matrix(y_test, predictions)"
   ]
  },
  {
   "cell_type": "code",
   "execution_count": 4,
   "id": "92bb6464",
   "metadata": {
    "execution": {
     "iopub.execute_input": "2024-01-09T17:37:01.445377Z",
     "iopub.status.busy": "2024-01-09T17:37:01.444670Z",
     "iopub.status.idle": "2024-01-09T17:37:01.489999Z",
     "shell.execute_reply": "2024-01-09T17:37:01.488522Z"
    },
    "papermill": {
     "duration": 0.055429,
     "end_time": "2024-01-09T17:37:01.492235",
     "exception": false,
     "start_time": "2024-01-09T17:37:01.436806",
     "status": "completed"
    },
    "tags": []
   },
   "outputs": [
    {
     "name": "stdout",
     "output_type": "stream",
     "text": [
      "Classification Report:\n",
      "               precision    recall  f1-score   support\n",
      "\n",
      "           0       0.86      0.41      0.56       536\n",
      "           1       0.97      1.00      0.98     11160\n",
      "\n",
      "    accuracy                           0.97     11696\n",
      "   macro avg       0.91      0.70      0.77     11696\n",
      "weighted avg       0.97      0.97      0.96     11696\n",
      "\n",
      "Accuracy: 0.9699042407660738\n",
      "Precision: 0.9724602203182374\n",
      "Recall: 0.9966845878136201\n",
      "Matthews Correlation Coefficient: 0.5823053755300048\n",
      "Hamming Loss: 0.030095759233926128\n"
     ]
    }
   ],
   "source": [
    "predictions = log_reg_model.predict(X_test_tfidf)\n",
    "print(\"Classification Report:\\n\", classification_report(y_test, predictions))\n",
    "print(\"Accuracy:\", accuracy_score(y_test, predictions))\n",
    "print(\"Precision:\", precision_score(y_test, predictions))\n",
    "print(\"Recall:\", recall_score(y_test, predictions))\n",
    "print(\"Matthews Correlation Coefficient:\", matthews_corrcoef(y_test, predictions))\n",
    "print(\"Hamming Loss:\", hamming_loss(y_test, predictions))"
   ]
  },
  {
   "cell_type": "markdown",
   "id": "f821e429",
   "metadata": {
    "papermill": {
     "duration": 0.006385,
     "end_time": "2024-01-09T17:37:01.505410",
     "exception": false,
     "start_time": "2024-01-09T17:37:01.499025",
     "status": "completed"
    },
    "tags": []
   },
   "source": [
    "# Random Forest Classifier with 0.05 feature extraction"
   ]
  },
  {
   "cell_type": "code",
   "execution_count": 5,
   "id": "6d3da2ef",
   "metadata": {
    "execution": {
     "iopub.execute_input": "2024-01-09T17:37:01.520235Z",
     "iopub.status.busy": "2024-01-09T17:37:01.519865Z",
     "iopub.status.idle": "2024-01-09T17:38:26.851290Z",
     "shell.execute_reply": "2024-01-09T17:38:26.850096Z"
    },
    "papermill": {
     "duration": 85.347931,
     "end_time": "2024-01-09T17:38:26.859934",
     "exception": false,
     "start_time": "2024-01-09T17:37:01.512003",
     "status": "completed"
    },
    "tags": []
   },
   "outputs": [
    {
     "data": {
      "text/html": [
       "<style>#sk-container-id-1 {color: black;background-color: white;}#sk-container-id-1 pre{padding: 0;}#sk-container-id-1 div.sk-toggleable {background-color: white;}#sk-container-id-1 label.sk-toggleable__label {cursor: pointer;display: block;width: 100%;margin-bottom: 0;padding: 0.3em;box-sizing: border-box;text-align: center;}#sk-container-id-1 label.sk-toggleable__label-arrow:before {content: \"▸\";float: left;margin-right: 0.25em;color: #696969;}#sk-container-id-1 label.sk-toggleable__label-arrow:hover:before {color: black;}#sk-container-id-1 div.sk-estimator:hover label.sk-toggleable__label-arrow:before {color: black;}#sk-container-id-1 div.sk-toggleable__content {max-height: 0;max-width: 0;overflow: hidden;text-align: left;background-color: #f0f8ff;}#sk-container-id-1 div.sk-toggleable__content pre {margin: 0.2em;color: black;border-radius: 0.25em;background-color: #f0f8ff;}#sk-container-id-1 input.sk-toggleable__control:checked~div.sk-toggleable__content {max-height: 200px;max-width: 100%;overflow: auto;}#sk-container-id-1 input.sk-toggleable__control:checked~label.sk-toggleable__label-arrow:before {content: \"▾\";}#sk-container-id-1 div.sk-estimator input.sk-toggleable__control:checked~label.sk-toggleable__label {background-color: #d4ebff;}#sk-container-id-1 div.sk-label input.sk-toggleable__control:checked~label.sk-toggleable__label {background-color: #d4ebff;}#sk-container-id-1 input.sk-hidden--visually {border: 0;clip: rect(1px 1px 1px 1px);clip: rect(1px, 1px, 1px, 1px);height: 1px;margin: -1px;overflow: hidden;padding: 0;position: absolute;width: 1px;}#sk-container-id-1 div.sk-estimator {font-family: monospace;background-color: #f0f8ff;border: 1px dotted black;border-radius: 0.25em;box-sizing: border-box;margin-bottom: 0.5em;}#sk-container-id-1 div.sk-estimator:hover {background-color: #d4ebff;}#sk-container-id-1 div.sk-parallel-item::after {content: \"\";width: 100%;border-bottom: 1px solid gray;flex-grow: 1;}#sk-container-id-1 div.sk-label:hover label.sk-toggleable__label {background-color: #d4ebff;}#sk-container-id-1 div.sk-serial::before {content: \"\";position: absolute;border-left: 1px solid gray;box-sizing: border-box;top: 0;bottom: 0;left: 50%;z-index: 0;}#sk-container-id-1 div.sk-serial {display: flex;flex-direction: column;align-items: center;background-color: white;padding-right: 0.2em;padding-left: 0.2em;position: relative;}#sk-container-id-1 div.sk-item {position: relative;z-index: 1;}#sk-container-id-1 div.sk-parallel {display: flex;align-items: stretch;justify-content: center;background-color: white;position: relative;}#sk-container-id-1 div.sk-item::before, #sk-container-id-1 div.sk-parallel-item::before {content: \"\";position: absolute;border-left: 1px solid gray;box-sizing: border-box;top: 0;bottom: 0;left: 50%;z-index: -1;}#sk-container-id-1 div.sk-parallel-item {display: flex;flex-direction: column;z-index: 1;position: relative;background-color: white;}#sk-container-id-1 div.sk-parallel-item:first-child::after {align-self: flex-end;width: 50%;}#sk-container-id-1 div.sk-parallel-item:last-child::after {align-self: flex-start;width: 50%;}#sk-container-id-1 div.sk-parallel-item:only-child::after {width: 0;}#sk-container-id-1 div.sk-dashed-wrapped {border: 1px dashed gray;margin: 0 0.4em 0.5em 0.4em;box-sizing: border-box;padding-bottom: 0.4em;background-color: white;}#sk-container-id-1 div.sk-label label {font-family: monospace;font-weight: bold;display: inline-block;line-height: 1.2em;}#sk-container-id-1 div.sk-label-container {text-align: center;}#sk-container-id-1 div.sk-container {/* jupyter's `normalize.less` sets `[hidden] { display: none; }` but bootstrap.min.css set `[hidden] { display: none !important; }` so we also need the `!important` here to be able to override the default hidden behavior on the sphinx rendered scikit-learn.org. See: https://github.com/scikit-learn/scikit-learn/issues/21755 */display: inline-block !important;position: relative;}#sk-container-id-1 div.sk-text-repr-fallback {display: none;}</style><div id=\"sk-container-id-1\" class=\"sk-top-container\"><div class=\"sk-text-repr-fallback\"><pre>RandomForestClassifier(random_state=42)</pre><b>In a Jupyter environment, please rerun this cell to show the HTML representation or trust the notebook. <br />On GitHub, the HTML representation is unable to render, please try loading this page with nbviewer.org.</b></div><div class=\"sk-container\" hidden><div class=\"sk-item\"><div class=\"sk-estimator sk-toggleable\"><input class=\"sk-toggleable__control sk-hidden--visually\" id=\"sk-estimator-id-1\" type=\"checkbox\" checked><label for=\"sk-estimator-id-1\" class=\"sk-toggleable__label sk-toggleable__label-arrow\">RandomForestClassifier</label><div class=\"sk-toggleable__content\"><pre>RandomForestClassifier(random_state=42)</pre></div></div></div></div></div>"
      ],
      "text/plain": [
       "RandomForestClassifier(random_state=42)"
      ]
     },
     "execution_count": 5,
     "metadata": {},
     "output_type": "execute_result"
    }
   ],
   "source": [
    "from sklearn.ensemble import RandomForestClassifier\n",
    "rf_model = RandomForestClassifier(random_state=42)\n",
    "rf_model.fit(X_train_tfidf, y_train)"
   ]
  },
  {
   "cell_type": "code",
   "execution_count": 6,
   "id": "4157ad59",
   "metadata": {
    "execution": {
     "iopub.execute_input": "2024-01-09T17:38:26.874893Z",
     "iopub.status.busy": "2024-01-09T17:38:26.874206Z",
     "iopub.status.idle": "2024-01-09T17:38:27.443377Z",
     "shell.execute_reply": "2024-01-09T17:38:27.442266Z"
    },
    "papermill": {
     "duration": 0.579217,
     "end_time": "2024-01-09T17:38:27.445719",
     "exception": false,
     "start_time": "2024-01-09T17:38:26.866502",
     "status": "completed"
    },
    "tags": []
   },
   "outputs": [
    {
     "name": "stdout",
     "output_type": "stream",
     "text": [
      "Classification Report:\n",
      "               precision    recall  f1-score   support\n",
      "\n",
      "           0       1.00      0.83      0.91       536\n",
      "           1       0.99      1.00      1.00     11160\n",
      "\n",
      "    accuracy                           0.99     11696\n",
      "   macro avg       1.00      0.92      0.95     11696\n",
      "weighted avg       0.99      0.99      0.99     11696\n",
      "\n",
      "Accuracy: 0.992219562243502\n",
      "Precision: 0.9919118300595503\n",
      "Recall: 1.0\n",
      "Matthews Correlation Coefficient: 0.9074739052788937\n",
      "Hamming Loss: 0.007780437756497948\n"
     ]
    }
   ],
   "source": [
    "from sklearn.metrics import classification_report, accuracy_score, precision_score, recall_score, matthews_corrcoef, hamming_loss\n",
    "\n",
    "rf_predictions = rf_model.predict(X_test_tfidf)\n",
    "print(\"Classification Report:\\n\", classification_report(y_test, rf_predictions))\n",
    "print(\"Accuracy:\", accuracy_score(y_test, rf_predictions))\n",
    "print(\"Precision:\", precision_score(y_test, rf_predictions))\n",
    "print(\"Recall:\", recall_score(y_test, rf_predictions))\n",
    "print(\"Matthews Correlation Coefficient:\", matthews_corrcoef(y_test, rf_predictions))\n",
    "print(\"Hamming Loss:\", hamming_loss(y_test, rf_predictions))\n"
   ]
  },
  {
   "cell_type": "code",
   "execution_count": 7,
   "id": "91191391",
   "metadata": {
    "execution": {
     "iopub.execute_input": "2024-01-09T17:38:27.461310Z",
     "iopub.status.busy": "2024-01-09T17:38:27.460978Z",
     "iopub.status.idle": "2024-01-09T17:46:13.776200Z",
     "shell.execute_reply": "2024-01-09T17:46:13.775206Z"
    },
    "papermill": {
     "duration": 466.332322,
     "end_time": "2024-01-09T17:46:13.785721",
     "exception": false,
     "start_time": "2024-01-09T17:38:27.453399",
     "status": "completed"
    },
    "tags": []
   },
   "outputs": [
    {
     "data": {
      "text/html": [
       "<style>#sk-container-id-2 {color: black;background-color: white;}#sk-container-id-2 pre{padding: 0;}#sk-container-id-2 div.sk-toggleable {background-color: white;}#sk-container-id-2 label.sk-toggleable__label {cursor: pointer;display: block;width: 100%;margin-bottom: 0;padding: 0.3em;box-sizing: border-box;text-align: center;}#sk-container-id-2 label.sk-toggleable__label-arrow:before {content: \"▸\";float: left;margin-right: 0.25em;color: #696969;}#sk-container-id-2 label.sk-toggleable__label-arrow:hover:before {color: black;}#sk-container-id-2 div.sk-estimator:hover label.sk-toggleable__label-arrow:before {color: black;}#sk-container-id-2 div.sk-toggleable__content {max-height: 0;max-width: 0;overflow: hidden;text-align: left;background-color: #f0f8ff;}#sk-container-id-2 div.sk-toggleable__content pre {margin: 0.2em;color: black;border-radius: 0.25em;background-color: #f0f8ff;}#sk-container-id-2 input.sk-toggleable__control:checked~div.sk-toggleable__content {max-height: 200px;max-width: 100%;overflow: auto;}#sk-container-id-2 input.sk-toggleable__control:checked~label.sk-toggleable__label-arrow:before {content: \"▾\";}#sk-container-id-2 div.sk-estimator input.sk-toggleable__control:checked~label.sk-toggleable__label {background-color: #d4ebff;}#sk-container-id-2 div.sk-label input.sk-toggleable__control:checked~label.sk-toggleable__label {background-color: #d4ebff;}#sk-container-id-2 input.sk-hidden--visually {border: 0;clip: rect(1px 1px 1px 1px);clip: rect(1px, 1px, 1px, 1px);height: 1px;margin: -1px;overflow: hidden;padding: 0;position: absolute;width: 1px;}#sk-container-id-2 div.sk-estimator {font-family: monospace;background-color: #f0f8ff;border: 1px dotted black;border-radius: 0.25em;box-sizing: border-box;margin-bottom: 0.5em;}#sk-container-id-2 div.sk-estimator:hover {background-color: #d4ebff;}#sk-container-id-2 div.sk-parallel-item::after {content: \"\";width: 100%;border-bottom: 1px solid gray;flex-grow: 1;}#sk-container-id-2 div.sk-label:hover label.sk-toggleable__label {background-color: #d4ebff;}#sk-container-id-2 div.sk-serial::before {content: \"\";position: absolute;border-left: 1px solid gray;box-sizing: border-box;top: 0;bottom: 0;left: 50%;z-index: 0;}#sk-container-id-2 div.sk-serial {display: flex;flex-direction: column;align-items: center;background-color: white;padding-right: 0.2em;padding-left: 0.2em;position: relative;}#sk-container-id-2 div.sk-item {position: relative;z-index: 1;}#sk-container-id-2 div.sk-parallel {display: flex;align-items: stretch;justify-content: center;background-color: white;position: relative;}#sk-container-id-2 div.sk-item::before, #sk-container-id-2 div.sk-parallel-item::before {content: \"\";position: absolute;border-left: 1px solid gray;box-sizing: border-box;top: 0;bottom: 0;left: 50%;z-index: -1;}#sk-container-id-2 div.sk-parallel-item {display: flex;flex-direction: column;z-index: 1;position: relative;background-color: white;}#sk-container-id-2 div.sk-parallel-item:first-child::after {align-self: flex-end;width: 50%;}#sk-container-id-2 div.sk-parallel-item:last-child::after {align-self: flex-start;width: 50%;}#sk-container-id-2 div.sk-parallel-item:only-child::after {width: 0;}#sk-container-id-2 div.sk-dashed-wrapped {border: 1px dashed gray;margin: 0 0.4em 0.5em 0.4em;box-sizing: border-box;padding-bottom: 0.4em;background-color: white;}#sk-container-id-2 div.sk-label label {font-family: monospace;font-weight: bold;display: inline-block;line-height: 1.2em;}#sk-container-id-2 div.sk-label-container {text-align: center;}#sk-container-id-2 div.sk-container {/* jupyter's `normalize.less` sets `[hidden] { display: none; }` but bootstrap.min.css set `[hidden] { display: none !important; }` so we also need the `!important` here to be able to override the default hidden behavior on the sphinx rendered scikit-learn.org. See: https://github.com/scikit-learn/scikit-learn/issues/21755 */display: inline-block !important;position: relative;}#sk-container-id-2 div.sk-text-repr-fallback {display: none;}</style><div id=\"sk-container-id-2\" class=\"sk-top-container\"><div class=\"sk-text-repr-fallback\"><pre>SVC(random_state=42)</pre><b>In a Jupyter environment, please rerun this cell to show the HTML representation or trust the notebook. <br />On GitHub, the HTML representation is unable to render, please try loading this page with nbviewer.org.</b></div><div class=\"sk-container\" hidden><div class=\"sk-item\"><div class=\"sk-estimator sk-toggleable\"><input class=\"sk-toggleable__control sk-hidden--visually\" id=\"sk-estimator-id-2\" type=\"checkbox\" checked><label for=\"sk-estimator-id-2\" class=\"sk-toggleable__label sk-toggleable__label-arrow\">SVC</label><div class=\"sk-toggleable__content\"><pre>SVC(random_state=42)</pre></div></div></div></div></div>"
      ],
      "text/plain": [
       "SVC(random_state=42)"
      ]
     },
     "execution_count": 7,
     "metadata": {},
     "output_type": "execute_result"
    }
   ],
   "source": [
    "from sklearn.svm import SVC\n",
    "svm_model = SVC(random_state=42)\n",
    "svm_model.fit(X_train_tfidf, y_train)\n"
   ]
  },
  {
   "cell_type": "code",
   "execution_count": 8,
   "id": "0e7c787d",
   "metadata": {
    "execution": {
     "iopub.execute_input": "2024-01-09T17:46:13.800816Z",
     "iopub.status.busy": "2024-01-09T17:46:13.800509Z",
     "iopub.status.idle": "2024-01-09T17:47:05.658480Z",
     "shell.execute_reply": "2024-01-09T17:47:05.657428Z"
    },
    "papermill": {
     "duration": 51.875503,
     "end_time": "2024-01-09T17:47:05.668245",
     "exception": false,
     "start_time": "2024-01-09T17:46:13.792742",
     "status": "completed"
    },
    "tags": []
   },
   "outputs": [
    {
     "name": "stdout",
     "output_type": "stream",
     "text": [
      "Classification Report:\n",
      "               precision    recall  f1-score   support\n",
      "\n",
      "           0       0.95      0.73      0.83       536\n",
      "           1       0.99      1.00      0.99     11160\n",
      "\n",
      "    accuracy                           0.99     11696\n",
      "   macro avg       0.97      0.87      0.91     11696\n",
      "weighted avg       0.99      0.99      0.99     11696\n",
      "\n",
      "Accuracy: 0.9860636114911081\n",
      "Precision: 0.9873260657626518\n",
      "Recall: 0.9982078853046595\n",
      "Matthews Correlation Coefficient: 0.8286900565778993\n",
      "Hamming Loss: 0.01393638850889193\n"
     ]
    }
   ],
   "source": [
    "from sklearn.metrics import classification_report, accuracy_score, precision_score, recall_score, matthews_corrcoef, hamming_loss\n",
    "\n",
    "svm_predictions = svm_model.predict(X_test_tfidf)\n",
    "print(\"Classification Report:\\n\", classification_report(y_test, svm_predictions))\n",
    "print(\"Accuracy:\", accuracy_score(y_test, svm_predictions))\n",
    "print(\"Precision:\", precision_score(y_test, svm_predictions))\n",
    "print(\"Recall:\", recall_score(y_test, svm_predictions))\n",
    "print(\"Matthews Correlation Coefficient:\", matthews_corrcoef(y_test, svm_predictions))\n",
    "print(\"Hamming Loss:\", hamming_loss(y_test, svm_predictions))\n"
   ]
  },
  {
   "cell_type": "code",
   "execution_count": 9,
   "id": "5e49ad10",
   "metadata": {
    "execution": {
     "iopub.execute_input": "2024-01-09T17:47:05.684091Z",
     "iopub.status.busy": "2024-01-09T17:47:05.683727Z",
     "iopub.status.idle": "2024-01-09T17:47:13.796528Z",
     "shell.execute_reply": "2024-01-09T17:47:13.795537Z"
    },
    "papermill": {
     "duration": 8.1234,
     "end_time": "2024-01-09T17:47:13.798759",
     "exception": false,
     "start_time": "2024-01-09T17:47:05.675359",
     "status": "completed"
    },
    "tags": []
   },
   "outputs": [
    {
     "data": {
      "text/html": [
       "<style>#sk-container-id-3 {color: black;background-color: white;}#sk-container-id-3 pre{padding: 0;}#sk-container-id-3 div.sk-toggleable {background-color: white;}#sk-container-id-3 label.sk-toggleable__label {cursor: pointer;display: block;width: 100%;margin-bottom: 0;padding: 0.3em;box-sizing: border-box;text-align: center;}#sk-container-id-3 label.sk-toggleable__label-arrow:before {content: \"▸\";float: left;margin-right: 0.25em;color: #696969;}#sk-container-id-3 label.sk-toggleable__label-arrow:hover:before {color: black;}#sk-container-id-3 div.sk-estimator:hover label.sk-toggleable__label-arrow:before {color: black;}#sk-container-id-3 div.sk-toggleable__content {max-height: 0;max-width: 0;overflow: hidden;text-align: left;background-color: #f0f8ff;}#sk-container-id-3 div.sk-toggleable__content pre {margin: 0.2em;color: black;border-radius: 0.25em;background-color: #f0f8ff;}#sk-container-id-3 input.sk-toggleable__control:checked~div.sk-toggleable__content {max-height: 200px;max-width: 100%;overflow: auto;}#sk-container-id-3 input.sk-toggleable__control:checked~label.sk-toggleable__label-arrow:before {content: \"▾\";}#sk-container-id-3 div.sk-estimator input.sk-toggleable__control:checked~label.sk-toggleable__label {background-color: #d4ebff;}#sk-container-id-3 div.sk-label input.sk-toggleable__control:checked~label.sk-toggleable__label {background-color: #d4ebff;}#sk-container-id-3 input.sk-hidden--visually {border: 0;clip: rect(1px 1px 1px 1px);clip: rect(1px, 1px, 1px, 1px);height: 1px;margin: -1px;overflow: hidden;padding: 0;position: absolute;width: 1px;}#sk-container-id-3 div.sk-estimator {font-family: monospace;background-color: #f0f8ff;border: 1px dotted black;border-radius: 0.25em;box-sizing: border-box;margin-bottom: 0.5em;}#sk-container-id-3 div.sk-estimator:hover {background-color: #d4ebff;}#sk-container-id-3 div.sk-parallel-item::after {content: \"\";width: 100%;border-bottom: 1px solid gray;flex-grow: 1;}#sk-container-id-3 div.sk-label:hover label.sk-toggleable__label {background-color: #d4ebff;}#sk-container-id-3 div.sk-serial::before {content: \"\";position: absolute;border-left: 1px solid gray;box-sizing: border-box;top: 0;bottom: 0;left: 50%;z-index: 0;}#sk-container-id-3 div.sk-serial {display: flex;flex-direction: column;align-items: center;background-color: white;padding-right: 0.2em;padding-left: 0.2em;position: relative;}#sk-container-id-3 div.sk-item {position: relative;z-index: 1;}#sk-container-id-3 div.sk-parallel {display: flex;align-items: stretch;justify-content: center;background-color: white;position: relative;}#sk-container-id-3 div.sk-item::before, #sk-container-id-3 div.sk-parallel-item::before {content: \"\";position: absolute;border-left: 1px solid gray;box-sizing: border-box;top: 0;bottom: 0;left: 50%;z-index: -1;}#sk-container-id-3 div.sk-parallel-item {display: flex;flex-direction: column;z-index: 1;position: relative;background-color: white;}#sk-container-id-3 div.sk-parallel-item:first-child::after {align-self: flex-end;width: 50%;}#sk-container-id-3 div.sk-parallel-item:last-child::after {align-self: flex-start;width: 50%;}#sk-container-id-3 div.sk-parallel-item:only-child::after {width: 0;}#sk-container-id-3 div.sk-dashed-wrapped {border: 1px dashed gray;margin: 0 0.4em 0.5em 0.4em;box-sizing: border-box;padding-bottom: 0.4em;background-color: white;}#sk-container-id-3 div.sk-label label {font-family: monospace;font-weight: bold;display: inline-block;line-height: 1.2em;}#sk-container-id-3 div.sk-label-container {text-align: center;}#sk-container-id-3 div.sk-container {/* jupyter's `normalize.less` sets `[hidden] { display: none; }` but bootstrap.min.css set `[hidden] { display: none !important; }` so we also need the `!important` here to be able to override the default hidden behavior on the sphinx rendered scikit-learn.org. See: https://github.com/scikit-learn/scikit-learn/issues/21755 */display: inline-block !important;position: relative;}#sk-container-id-3 div.sk-text-repr-fallback {display: none;}</style><div id=\"sk-container-id-3\" class=\"sk-top-container\"><div class=\"sk-text-repr-fallback\"><pre>XGBClassifier(base_score=None, booster=None, callbacks=None,\n",
       "              colsample_bylevel=None, colsample_bynode=None,\n",
       "              colsample_bytree=None, device=None, early_stopping_rounds=None,\n",
       "              enable_categorical=False, eval_metric=&#x27;logloss&#x27;,\n",
       "              feature_types=None, gamma=None, grow_policy=None,\n",
       "              importance_type=None, interaction_constraints=None,\n",
       "              learning_rate=None, max_bin=None, max_cat_threshold=None,\n",
       "              max_cat_to_onehot=None, max_delta_step=None, max_depth=None,\n",
       "              max_leaves=None, min_child_weight=None, missing=nan,\n",
       "              monotone_constraints=None, multi_strategy=None, n_estimators=None,\n",
       "              n_jobs=None, num_parallel_tree=None, random_state=42, ...)</pre><b>In a Jupyter environment, please rerun this cell to show the HTML representation or trust the notebook. <br />On GitHub, the HTML representation is unable to render, please try loading this page with nbviewer.org.</b></div><div class=\"sk-container\" hidden><div class=\"sk-item\"><div class=\"sk-estimator sk-toggleable\"><input class=\"sk-toggleable__control sk-hidden--visually\" id=\"sk-estimator-id-3\" type=\"checkbox\" checked><label for=\"sk-estimator-id-3\" class=\"sk-toggleable__label sk-toggleable__label-arrow\">XGBClassifier</label><div class=\"sk-toggleable__content\"><pre>XGBClassifier(base_score=None, booster=None, callbacks=None,\n",
       "              colsample_bylevel=None, colsample_bynode=None,\n",
       "              colsample_bytree=None, device=None, early_stopping_rounds=None,\n",
       "              enable_categorical=False, eval_metric=&#x27;logloss&#x27;,\n",
       "              feature_types=None, gamma=None, grow_policy=None,\n",
       "              importance_type=None, interaction_constraints=None,\n",
       "              learning_rate=None, max_bin=None, max_cat_threshold=None,\n",
       "              max_cat_to_onehot=None, max_delta_step=None, max_depth=None,\n",
       "              max_leaves=None, min_child_weight=None, missing=nan,\n",
       "              monotone_constraints=None, multi_strategy=None, n_estimators=None,\n",
       "              n_jobs=None, num_parallel_tree=None, random_state=42, ...)</pre></div></div></div></div></div>"
      ],
      "text/plain": [
       "XGBClassifier(base_score=None, booster=None, callbacks=None,\n",
       "              colsample_bylevel=None, colsample_bynode=None,\n",
       "              colsample_bytree=None, device=None, early_stopping_rounds=None,\n",
       "              enable_categorical=False, eval_metric='logloss',\n",
       "              feature_types=None, gamma=None, grow_policy=None,\n",
       "              importance_type=None, interaction_constraints=None,\n",
       "              learning_rate=None, max_bin=None, max_cat_threshold=None,\n",
       "              max_cat_to_onehot=None, max_delta_step=None, max_depth=None,\n",
       "              max_leaves=None, min_child_weight=None, missing=nan,\n",
       "              monotone_constraints=None, multi_strategy=None, n_estimators=None,\n",
       "              n_jobs=None, num_parallel_tree=None, random_state=42, ...)"
      ]
     },
     "execution_count": 9,
     "metadata": {},
     "output_type": "execute_result"
    }
   ],
   "source": [
    "from xgboost import XGBClassifier\n",
    "xgb_model = XGBClassifier(random_state=42, use_label_encoder=False, eval_metric='logloss')\n",
    "xgb_model.fit(X_train_tfidf, y_train)"
   ]
  },
  {
   "cell_type": "code",
   "execution_count": 10,
   "id": "376fc079",
   "metadata": {
    "execution": {
     "iopub.execute_input": "2024-01-09T17:47:13.816140Z",
     "iopub.status.busy": "2024-01-09T17:47:13.815187Z",
     "iopub.status.idle": "2024-01-09T17:47:13.888573Z",
     "shell.execute_reply": "2024-01-09T17:47:13.887312Z"
    },
    "papermill": {
     "duration": 0.084482,
     "end_time": "2024-01-09T17:47:13.890906",
     "exception": false,
     "start_time": "2024-01-09T17:47:13.806424",
     "status": "completed"
    },
    "tags": []
   },
   "outputs": [
    {
     "name": "stdout",
     "output_type": "stream",
     "text": [
      "Classification Report:\n",
      "               precision    recall  f1-score   support\n",
      "\n",
      "           0       0.96      0.86      0.91       536\n",
      "           1       0.99      1.00      1.00     11160\n",
      "\n",
      "    accuracy                           0.99     11696\n",
      "   macro avg       0.98      0.93      0.95     11696\n",
      "weighted avg       0.99      0.99      0.99     11696\n",
      "\n",
      "Accuracy: 0.9920485636114911\n",
      "Precision: 0.9934016941596077\n",
      "Recall: 0.9982974910394266\n",
      "Matthews Correlation Coefficient: 0.9058594761941927\n",
      "Hamming Loss: 0.007951436388508893\n"
     ]
    }
   ],
   "source": [
    "from sklearn.metrics import classification_report, accuracy_score, precision_score, recall_score, matthews_corrcoef, hamming_loss\n",
    "\n",
    "xgb_predictions = xgb_model.predict(X_test_tfidf)\n",
    "print(\"Classification Report:\\n\", classification_report(y_test, xgb_predictions))\n",
    "print(\"Accuracy:\", accuracy_score(y_test, xgb_predictions))\n",
    "print(\"Precision:\", precision_score(y_test, xgb_predictions))\n",
    "print(\"Recall:\", recall_score(y_test, xgb_predictions))\n",
    "print(\"Matthews Correlation Coefficient:\", matthews_corrcoef(y_test, xgb_predictions))\n",
    "print(\"Hamming Loss:\", hamming_loss(y_test, xgb_predictions))\n"
   ]
  },
  {
   "cell_type": "code",
   "execution_count": 11,
   "id": "64910fe7",
   "metadata": {
    "execution": {
     "iopub.execute_input": "2024-01-09T17:47:13.907674Z",
     "iopub.status.busy": "2024-01-09T17:47:13.907316Z",
     "iopub.status.idle": "2024-01-09T17:47:42.449478Z",
     "shell.execute_reply": "2024-01-09T17:47:42.448590Z"
    },
    "papermill": {
     "duration": 28.552963,
     "end_time": "2024-01-09T17:47:42.451534",
     "exception": false,
     "start_time": "2024-01-09T17:47:13.898571",
     "status": "completed"
    },
    "tags": []
   },
   "outputs": [
    {
     "data": {
      "text/html": [
       "<style>#sk-container-id-4 {color: black;background-color: white;}#sk-container-id-4 pre{padding: 0;}#sk-container-id-4 div.sk-toggleable {background-color: white;}#sk-container-id-4 label.sk-toggleable__label {cursor: pointer;display: block;width: 100%;margin-bottom: 0;padding: 0.3em;box-sizing: border-box;text-align: center;}#sk-container-id-4 label.sk-toggleable__label-arrow:before {content: \"▸\";float: left;margin-right: 0.25em;color: #696969;}#sk-container-id-4 label.sk-toggleable__label-arrow:hover:before {color: black;}#sk-container-id-4 div.sk-estimator:hover label.sk-toggleable__label-arrow:before {color: black;}#sk-container-id-4 div.sk-toggleable__content {max-height: 0;max-width: 0;overflow: hidden;text-align: left;background-color: #f0f8ff;}#sk-container-id-4 div.sk-toggleable__content pre {margin: 0.2em;color: black;border-radius: 0.25em;background-color: #f0f8ff;}#sk-container-id-4 input.sk-toggleable__control:checked~div.sk-toggleable__content {max-height: 200px;max-width: 100%;overflow: auto;}#sk-container-id-4 input.sk-toggleable__control:checked~label.sk-toggleable__label-arrow:before {content: \"▾\";}#sk-container-id-4 div.sk-estimator input.sk-toggleable__control:checked~label.sk-toggleable__label {background-color: #d4ebff;}#sk-container-id-4 div.sk-label input.sk-toggleable__control:checked~label.sk-toggleable__label {background-color: #d4ebff;}#sk-container-id-4 input.sk-hidden--visually {border: 0;clip: rect(1px 1px 1px 1px);clip: rect(1px, 1px, 1px, 1px);height: 1px;margin: -1px;overflow: hidden;padding: 0;position: absolute;width: 1px;}#sk-container-id-4 div.sk-estimator {font-family: monospace;background-color: #f0f8ff;border: 1px dotted black;border-radius: 0.25em;box-sizing: border-box;margin-bottom: 0.5em;}#sk-container-id-4 div.sk-estimator:hover {background-color: #d4ebff;}#sk-container-id-4 div.sk-parallel-item::after {content: \"\";width: 100%;border-bottom: 1px solid gray;flex-grow: 1;}#sk-container-id-4 div.sk-label:hover label.sk-toggleable__label {background-color: #d4ebff;}#sk-container-id-4 div.sk-serial::before {content: \"\";position: absolute;border-left: 1px solid gray;box-sizing: border-box;top: 0;bottom: 0;left: 50%;z-index: 0;}#sk-container-id-4 div.sk-serial {display: flex;flex-direction: column;align-items: center;background-color: white;padding-right: 0.2em;padding-left: 0.2em;position: relative;}#sk-container-id-4 div.sk-item {position: relative;z-index: 1;}#sk-container-id-4 div.sk-parallel {display: flex;align-items: stretch;justify-content: center;background-color: white;position: relative;}#sk-container-id-4 div.sk-item::before, #sk-container-id-4 div.sk-parallel-item::before {content: \"\";position: absolute;border-left: 1px solid gray;box-sizing: border-box;top: 0;bottom: 0;left: 50%;z-index: -1;}#sk-container-id-4 div.sk-parallel-item {display: flex;flex-direction: column;z-index: 1;position: relative;background-color: white;}#sk-container-id-4 div.sk-parallel-item:first-child::after {align-self: flex-end;width: 50%;}#sk-container-id-4 div.sk-parallel-item:last-child::after {align-self: flex-start;width: 50%;}#sk-container-id-4 div.sk-parallel-item:only-child::after {width: 0;}#sk-container-id-4 div.sk-dashed-wrapped {border: 1px dashed gray;margin: 0 0.4em 0.5em 0.4em;box-sizing: border-box;padding-bottom: 0.4em;background-color: white;}#sk-container-id-4 div.sk-label label {font-family: monospace;font-weight: bold;display: inline-block;line-height: 1.2em;}#sk-container-id-4 div.sk-label-container {text-align: center;}#sk-container-id-4 div.sk-container {/* jupyter's `normalize.less` sets `[hidden] { display: none; }` but bootstrap.min.css set `[hidden] { display: none !important; }` so we also need the `!important` here to be able to override the default hidden behavior on the sphinx rendered scikit-learn.org. See: https://github.com/scikit-learn/scikit-learn/issues/21755 */display: inline-block !important;position: relative;}#sk-container-id-4 div.sk-text-repr-fallback {display: none;}</style><div id=\"sk-container-id-4\" class=\"sk-top-container\"><div class=\"sk-text-repr-fallback\"><pre>DecisionTreeClassifier(random_state=42)</pre><b>In a Jupyter environment, please rerun this cell to show the HTML representation or trust the notebook. <br />On GitHub, the HTML representation is unable to render, please try loading this page with nbviewer.org.</b></div><div class=\"sk-container\" hidden><div class=\"sk-item\"><div class=\"sk-estimator sk-toggleable\"><input class=\"sk-toggleable__control sk-hidden--visually\" id=\"sk-estimator-id-4\" type=\"checkbox\" checked><label for=\"sk-estimator-id-4\" class=\"sk-toggleable__label sk-toggleable__label-arrow\">DecisionTreeClassifier</label><div class=\"sk-toggleable__content\"><pre>DecisionTreeClassifier(random_state=42)</pre></div></div></div></div></div>"
      ],
      "text/plain": [
       "DecisionTreeClassifier(random_state=42)"
      ]
     },
     "execution_count": 11,
     "metadata": {},
     "output_type": "execute_result"
    }
   ],
   "source": [
    "from sklearn.tree import DecisionTreeClassifier\n",
    "dt_model = DecisionTreeClassifier(random_state=42)\n",
    "dt_model.fit(X_train_tfidf, y_train)"
   ]
  },
  {
   "cell_type": "code",
   "execution_count": 12,
   "id": "902bb806",
   "metadata": {
    "execution": {
     "iopub.execute_input": "2024-01-09T17:47:42.468902Z",
     "iopub.status.busy": "2024-01-09T17:47:42.468584Z",
     "iopub.status.idle": "2024-01-09T17:47:42.521293Z",
     "shell.execute_reply": "2024-01-09T17:47:42.520280Z"
    },
    "papermill": {
     "duration": 0.063992,
     "end_time": "2024-01-09T17:47:42.523730",
     "exception": false,
     "start_time": "2024-01-09T17:47:42.459738",
     "status": "completed"
    },
    "tags": []
   },
   "outputs": [
    {
     "name": "stdout",
     "output_type": "stream",
     "text": [
      "Classification Report:\n",
      "               precision    recall  f1-score   support\n",
      "\n",
      "           0       0.73      0.87      0.79       536\n",
      "           1       0.99      0.98      0.99     11160\n",
      "\n",
      "    accuracy                           0.98     11696\n",
      "   macro avg       0.86      0.93      0.89     11696\n",
      "weighted avg       0.98      0.98      0.98     11696\n",
      "\n",
      "Accuracy: 0.9792236662106704\n",
      "Precision: 0.9938478241201484\n",
      "Recall: 0.9843189964157706\n",
      "Matthews Correlation Coefficient: 0.7866461280006288\n",
      "Hamming Loss: 0.020776333789329686\n"
     ]
    }
   ],
   "source": [
    "from sklearn.metrics import classification_report, accuracy_score, precision_score, recall_score, matthews_corrcoef, hamming_loss\n",
    "\n",
    "dt_predictions = dt_model.predict(X_test_tfidf)\n",
    "print(\"Classification Report:\\n\", classification_report(y_test, dt_predictions))\n",
    "print(\"Accuracy:\", accuracy_score(y_test, dt_predictions))\n",
    "print(\"Precision:\", precision_score(y_test, dt_predictions))\n",
    "print(\"Recall:\", recall_score(y_test, dt_predictions))\n",
    "print(\"Matthews Correlation Coefficient:\", matthews_corrcoef(y_test, dt_predictions))\n",
    "print(\"Hamming Loss:\", hamming_loss(y_test, dt_predictions))\n"
   ]
  },
  {
   "cell_type": "code",
   "execution_count": 13,
   "id": "b0baafc7",
   "metadata": {
    "execution": {
     "iopub.execute_input": "2024-01-09T17:47:42.541701Z",
     "iopub.status.busy": "2024-01-09T17:47:42.541374Z",
     "iopub.status.idle": "2024-01-09T17:50:06.266773Z",
     "shell.execute_reply": "2024-01-09T17:50:06.265726Z"
    },
    "papermill": {
     "duration": 143.744172,
     "end_time": "2024-01-09T17:50:06.276695",
     "exception": false,
     "start_time": "2024-01-09T17:47:42.532523",
     "status": "completed"
    },
    "tags": []
   },
   "outputs": [
    {
     "data": {
      "text/html": [
       "<style>#sk-container-id-5 {color: black;background-color: white;}#sk-container-id-5 pre{padding: 0;}#sk-container-id-5 div.sk-toggleable {background-color: white;}#sk-container-id-5 label.sk-toggleable__label {cursor: pointer;display: block;width: 100%;margin-bottom: 0;padding: 0.3em;box-sizing: border-box;text-align: center;}#sk-container-id-5 label.sk-toggleable__label-arrow:before {content: \"▸\";float: left;margin-right: 0.25em;color: #696969;}#sk-container-id-5 label.sk-toggleable__label-arrow:hover:before {color: black;}#sk-container-id-5 div.sk-estimator:hover label.sk-toggleable__label-arrow:before {color: black;}#sk-container-id-5 div.sk-toggleable__content {max-height: 0;max-width: 0;overflow: hidden;text-align: left;background-color: #f0f8ff;}#sk-container-id-5 div.sk-toggleable__content pre {margin: 0.2em;color: black;border-radius: 0.25em;background-color: #f0f8ff;}#sk-container-id-5 input.sk-toggleable__control:checked~div.sk-toggleable__content {max-height: 200px;max-width: 100%;overflow: auto;}#sk-container-id-5 input.sk-toggleable__control:checked~label.sk-toggleable__label-arrow:before {content: \"▾\";}#sk-container-id-5 div.sk-estimator input.sk-toggleable__control:checked~label.sk-toggleable__label {background-color: #d4ebff;}#sk-container-id-5 div.sk-label input.sk-toggleable__control:checked~label.sk-toggleable__label {background-color: #d4ebff;}#sk-container-id-5 input.sk-hidden--visually {border: 0;clip: rect(1px 1px 1px 1px);clip: rect(1px, 1px, 1px, 1px);height: 1px;margin: -1px;overflow: hidden;padding: 0;position: absolute;width: 1px;}#sk-container-id-5 div.sk-estimator {font-family: monospace;background-color: #f0f8ff;border: 1px dotted black;border-radius: 0.25em;box-sizing: border-box;margin-bottom: 0.5em;}#sk-container-id-5 div.sk-estimator:hover {background-color: #d4ebff;}#sk-container-id-5 div.sk-parallel-item::after {content: \"\";width: 100%;border-bottom: 1px solid gray;flex-grow: 1;}#sk-container-id-5 div.sk-label:hover label.sk-toggleable__label {background-color: #d4ebff;}#sk-container-id-5 div.sk-serial::before {content: \"\";position: absolute;border-left: 1px solid gray;box-sizing: border-box;top: 0;bottom: 0;left: 50%;z-index: 0;}#sk-container-id-5 div.sk-serial {display: flex;flex-direction: column;align-items: center;background-color: white;padding-right: 0.2em;padding-left: 0.2em;position: relative;}#sk-container-id-5 div.sk-item {position: relative;z-index: 1;}#sk-container-id-5 div.sk-parallel {display: flex;align-items: stretch;justify-content: center;background-color: white;position: relative;}#sk-container-id-5 div.sk-item::before, #sk-container-id-5 div.sk-parallel-item::before {content: \"\";position: absolute;border-left: 1px solid gray;box-sizing: border-box;top: 0;bottom: 0;left: 50%;z-index: -1;}#sk-container-id-5 div.sk-parallel-item {display: flex;flex-direction: column;z-index: 1;position: relative;background-color: white;}#sk-container-id-5 div.sk-parallel-item:first-child::after {align-self: flex-end;width: 50%;}#sk-container-id-5 div.sk-parallel-item:last-child::after {align-self: flex-start;width: 50%;}#sk-container-id-5 div.sk-parallel-item:only-child::after {width: 0;}#sk-container-id-5 div.sk-dashed-wrapped {border: 1px dashed gray;margin: 0 0.4em 0.5em 0.4em;box-sizing: border-box;padding-bottom: 0.4em;background-color: white;}#sk-container-id-5 div.sk-label label {font-family: monospace;font-weight: bold;display: inline-block;line-height: 1.2em;}#sk-container-id-5 div.sk-label-container {text-align: center;}#sk-container-id-5 div.sk-container {/* jupyter's `normalize.less` sets `[hidden] { display: none; }` but bootstrap.min.css set `[hidden] { display: none !important; }` so we also need the `!important` here to be able to override the default hidden behavior on the sphinx rendered scikit-learn.org. See: https://github.com/scikit-learn/scikit-learn/issues/21755 */display: inline-block !important;position: relative;}#sk-container-id-5 div.sk-text-repr-fallback {display: none;}</style><div id=\"sk-container-id-5\" class=\"sk-top-container\"><div class=\"sk-text-repr-fallback\"><pre>GradientBoostingClassifier(random_state=42)</pre><b>In a Jupyter environment, please rerun this cell to show the HTML representation or trust the notebook. <br />On GitHub, the HTML representation is unable to render, please try loading this page with nbviewer.org.</b></div><div class=\"sk-container\" hidden><div class=\"sk-item\"><div class=\"sk-estimator sk-toggleable\"><input class=\"sk-toggleable__control sk-hidden--visually\" id=\"sk-estimator-id-5\" type=\"checkbox\" checked><label for=\"sk-estimator-id-5\" class=\"sk-toggleable__label sk-toggleable__label-arrow\">GradientBoostingClassifier</label><div class=\"sk-toggleable__content\"><pre>GradientBoostingClassifier(random_state=42)</pre></div></div></div></div></div>"
      ],
      "text/plain": [
       "GradientBoostingClassifier(random_state=42)"
      ]
     },
     "execution_count": 13,
     "metadata": {},
     "output_type": "execute_result"
    }
   ],
   "source": [
    "from sklearn.ensemble import GradientBoostingClassifier\n",
    "gb_model = GradientBoostingClassifier(random_state=42)\n",
    "gb_model.fit(X_train_tfidf, y_train)\n"
   ]
  },
  {
   "cell_type": "code",
   "execution_count": 14,
   "id": "51da616d",
   "metadata": {
    "execution": {
     "iopub.execute_input": "2024-01-09T17:50:06.294017Z",
     "iopub.status.busy": "2024-01-09T17:50:06.293341Z",
     "iopub.status.idle": "2024-01-09T17:50:06.368296Z",
     "shell.execute_reply": "2024-01-09T17:50:06.367338Z"
    },
    "papermill": {
     "duration": 0.08628,
     "end_time": "2024-01-09T17:50:06.370656",
     "exception": false,
     "start_time": "2024-01-09T17:50:06.284376",
     "status": "completed"
    },
    "tags": []
   },
   "outputs": [
    {
     "name": "stdout",
     "output_type": "stream",
     "text": [
      "Classification Report:\n",
      "               precision    recall  f1-score   support\n",
      "\n",
      "           0       0.80      0.30      0.44       536\n",
      "           1       0.97      1.00      0.98     11160\n",
      "\n",
      "    accuracy                           0.96     11696\n",
      "   macro avg       0.89      0.65      0.71     11696\n",
      "weighted avg       0.96      0.96      0.96     11696\n",
      "\n",
      "Accuracy: 0.9645177838577291\n",
      "Precision: 0.9672958162999044\n",
      "Recall: 0.996505376344086\n",
      "Matthews Correlation Coefficient: 0.47702001887280593\n",
      "Hamming Loss: 0.03548221614227086\n"
     ]
    }
   ],
   "source": [
    "from sklearn.metrics import classification_report, accuracy_score, precision_score, recall_score, matthews_corrcoef, hamming_loss\n",
    "\n",
    "gb_predictions = gb_model.predict(X_test_tfidf)\n",
    "print(\"Classification Report:\\n\", classification_report(y_test, gb_predictions))\n",
    "print(\"Accuracy:\", accuracy_score(y_test, gb_predictions))\n",
    "print(\"Precision:\", precision_score(y_test, gb_predictions))\n",
    "print(\"Recall:\", recall_score(y_test, gb_predictions))\n",
    "print(\"Matthews Correlation Coefficient:\", matthews_corrcoef(y_test, gb_predictions))\n",
    "print(\"Hamming Loss:\", hamming_loss(y_test, gb_predictions))\n"
   ]
  },
  {
   "cell_type": "code",
   "execution_count": 15,
   "id": "31880364",
   "metadata": {
    "execution": {
     "iopub.execute_input": "2024-01-09T17:50:06.389236Z",
     "iopub.status.busy": "2024-01-09T17:50:06.388554Z",
     "iopub.status.idle": "2024-01-09T18:08:46.785874Z",
     "shell.execute_reply": "2024-01-09T18:08:46.784669Z"
    },
    "papermill": {
     "duration": 1120.417031,
     "end_time": "2024-01-09T18:08:46.796480",
     "exception": false,
     "start_time": "2024-01-09T17:50:06.379449",
     "status": "completed"
    },
    "tags": []
   },
   "outputs": [
    {
     "name": "stdout",
     "output_type": "stream",
     "text": [
      "Classification Report:\n",
      "               precision    recall  f1-score   support\n",
      "\n",
      "           0       0.84      0.39      0.54       536\n",
      "           1       0.97      1.00      0.98     11160\n",
      "\n",
      "    accuracy                           0.97     11696\n",
      "   macro avg       0.91      0.70      0.76     11696\n",
      "weighted avg       0.97      0.97      0.96     11696\n",
      "\n",
      "Accuracy: 0.9688782489740082\n",
      "Precision: 0.9716058011532414\n",
      "Recall: 0.996505376344086\n",
      "Matthews Correlation Coefficient: 0.5641085589199772\n",
      "Hamming Loss: 0.03112175102599179\n"
     ]
    }
   ],
   "source": [
    "from sklearn.neighbors import KNeighborsClassifier\n",
    "knn_model = KNeighborsClassifier()\n",
    "knn_model.fit(X_train_tfidf, y_train)\n",
    "from sklearn.metrics import classification_report, accuracy_score, precision_score, recall_score, matthews_corrcoef, hamming_loss\n",
    "\n",
    "knn_predictions = knn_model.predict(X_test_tfidf)\n",
    "print(\"Classification Report:\\n\", classification_report(y_test, knn_predictions))\n",
    "print(\"Accuracy:\", accuracy_score(y_test, knn_predictions))\n",
    "print(\"Precision:\", precision_score(y_test, knn_predictions))\n",
    "print(\"Recall:\", recall_score(y_test, knn_predictions))\n",
    "print(\"Matthews Correlation Coefficient:\", matthews_corrcoef(y_test, knn_predictions))\n",
    "print(\"Hamming Loss:\", hamming_loss(y_test, knn_predictions))\n"
   ]
  },
  {
   "cell_type": "code",
   "execution_count": 16,
   "id": "1421d634",
   "metadata": {
    "execution": {
     "iopub.execute_input": "2024-01-09T18:08:46.813847Z",
     "iopub.status.busy": "2024-01-09T18:08:46.813527Z",
     "iopub.status.idle": "2024-01-09T18:09:19.266284Z",
     "shell.execute_reply": "2024-01-09T18:09:19.264927Z"
    },
    "papermill": {
     "duration": 32.474367,
     "end_time": "2024-01-09T18:09:19.278838",
     "exception": false,
     "start_time": "2024-01-09T18:08:46.804471",
     "status": "completed"
    },
    "tags": []
   },
   "outputs": [
    {
     "name": "stdout",
     "output_type": "stream",
     "text": [
      "Classification Report:\n",
      "               precision    recall  f1-score   support\n",
      "\n",
      "           0       0.65      0.35      0.46       536\n",
      "           1       0.97      0.99      0.98     11160\n",
      "\n",
      "    accuracy                           0.96     11696\n",
      "   macro avg       0.81      0.67      0.72     11696\n",
      "weighted avg       0.95      0.96      0.96     11696\n",
      "\n",
      "Accuracy: 0.9614398084815321\n",
      "Precision: 0.9695694115583618\n",
      "Recall: 0.9906810035842294\n",
      "Matthews Correlation Coefficient: 0.4593418304903668\n",
      "Hamming Loss: 0.03856019151846785\n"
     ]
    }
   ],
   "source": [
    "from sklearn.ensemble import AdaBoostClassifier\n",
    "adaboost_model = AdaBoostClassifier(random_state=42)\n",
    "adaboost_model.fit(X_train_tfidf, y_train)\n",
    "from sklearn.metrics import classification_report, accuracy_score, precision_score, recall_score, matthews_corrcoef, hamming_loss\n",
    "\n",
    "adaboost_predictions = adaboost_model.predict(X_test_tfidf)\n",
    "print(\"Classification Report:\\n\", classification_report(y_test, adaboost_predictions))\n",
    "print(\"Accuracy:\", accuracy_score(y_test, adaboost_predictions))\n",
    "print(\"Precision:\", precision_score(y_test, adaboost_predictions))\n",
    "print(\"Recall:\", recall_score(y_test, adaboost_predictions))\n",
    "print(\"Matthews Correlation Coefficient:\", matthews_corrcoef(y_test, adaboost_predictions))\n",
    "print(\"Hamming Loss:\", hamming_loss(y_test, adaboost_predictions))\n"
   ]
  },
  {
   "cell_type": "code",
   "execution_count": 17,
   "id": "6adba7f9",
   "metadata": {
    "execution": {
     "iopub.execute_input": "2024-01-09T18:09:19.300609Z",
     "iopub.status.busy": "2024-01-09T18:09:19.299612Z",
     "iopub.status.idle": "2024-01-09T18:09:19.498717Z",
     "shell.execute_reply": "2024-01-09T18:09:19.497574Z"
    },
    "papermill": {
     "duration": 0.212599,
     "end_time": "2024-01-09T18:09:19.501573",
     "exception": false,
     "start_time": "2024-01-09T18:09:19.288974",
     "status": "completed"
    },
    "tags": []
   },
   "outputs": [
    {
     "name": "stdout",
     "output_type": "stream",
     "text": [
      "Classification Report:\n",
      "               precision    recall  f1-score   support\n",
      "\n",
      "           0       0.95      0.22      0.36       536\n",
      "           1       0.96      1.00      0.98     11160\n",
      "\n",
      "    accuracy                           0.96     11696\n",
      "   macro avg       0.96      0.61      0.67     11696\n",
      "weighted avg       0.96      0.96      0.95     11696\n",
      "\n",
      "Accuracy: 0.9638337893296853\n",
      "Precision: 0.9639616282084522\n",
      "Recall: 0.9994623655913979\n",
      "Matthews Correlation Coefficient: 0.4504050399840903\n",
      "Hamming Loss: 0.036166210670314634\n"
     ]
    }
   ],
   "source": [
    "from sklearn.linear_model import SGDClassifier\n",
    "sgd_model = SGDClassifier(random_state=42)\n",
    "sgd_model.fit(X_train_tfidf, y_train)\n",
    "from sklearn.metrics import classification_report, accuracy_score, precision_score, recall_score, matthews_corrcoef, hamming_loss\n",
    "\n",
    "sgd_predictions = sgd_model.predict(X_test_tfidf)\n",
    "print(\"Classification Report:\\n\", classification_report(y_test, sgd_predictions))\n",
    "print(\"Accuracy:\", accuracy_score(y_test, sgd_predictions))\n",
    "print(\"Precision:\", precision_score(y_test, sgd_predictions))\n",
    "print(\"Recall:\", recall_score(y_test, sgd_predictions))\n",
    "print(\"Matthews Correlation Coefficient:\", matthews_corrcoef(y_test, sgd_predictions))\n",
    "print(\"Hamming Loss:\", hamming_loss(y_test, sgd_predictions))\n"
   ]
  },
  {
   "cell_type": "code",
   "execution_count": 18,
   "id": "e739c113",
   "metadata": {
    "execution": {
     "iopub.execute_input": "2024-01-09T18:09:19.520784Z",
     "iopub.status.busy": "2024-01-09T18:09:19.519857Z",
     "iopub.status.idle": "2024-01-09T18:09:20.013226Z",
     "shell.execute_reply": "2024-01-09T18:09:20.011211Z"
    },
    "papermill": {
     "duration": 0.505589,
     "end_time": "2024-01-09T18:09:20.016035",
     "exception": false,
     "start_time": "2024-01-09T18:09:19.510446",
     "status": "completed"
    },
    "tags": []
   },
   "outputs": [
    {
     "name": "stdout",
     "output_type": "stream",
     "text": [
      "Classification Report:\n",
      "               precision    recall  f1-score   support\n",
      "\n",
      "           0       0.82      0.46      0.59       536\n",
      "           1       0.97      1.00      0.98     11160\n",
      "\n",
      "    accuracy                           0.97     11696\n",
      "   macro avg       0.90      0.73      0.79     11696\n",
      "weighted avg       0.97      0.97      0.97     11696\n",
      "\n",
      "Accuracy: 0.9706737346101231\n",
      "Precision: 0.9744714448635845\n",
      "Recall: 0.9953405017921146\n",
      "Matthews Correlation Coefficient: 0.6013874172760255\n",
      "Hamming Loss: 0.02932626538987688\n"
     ]
    }
   ],
   "source": [
    "from sklearn.svm import LinearSVC\n",
    "linear_svc_model = LinearSVC(random_state=42)\n",
    "linear_svc_model.fit(X_train_tfidf, y_train)\n",
    "from sklearn.metrics import classification_report, accuracy_score, precision_score, recall_score, matthews_corrcoef, hamming_loss\n",
    "\n",
    "linear_svc_predictions = linear_svc_model.predict(X_test_tfidf)\n",
    "print(\"Classification Report:\\n\", classification_report(y_test, linear_svc_predictions))\n",
    "print(\"Accuracy:\", accuracy_score(y_test, linear_svc_predictions))\n",
    "print(\"Precision:\", precision_score(y_test, linear_svc_predictions))\n",
    "print(\"Recall:\", recall_score(y_test, linear_svc_predictions))\n",
    "print(\"Matthews Correlation Coefficient:\", matthews_corrcoef(y_test, linear_svc_predictions))\n",
    "print(\"Hamming Loss:\", hamming_loss(y_test, linear_svc_predictions))\n"
   ]
  }
 ],
 "metadata": {
  "kaggle": {
   "accelerator": "gpu",
   "dataSources": [
    {
     "datasetId": 618408,
     "sourceId": 2009678,
     "sourceType": "datasetVersion"
    }
   ],
   "dockerImageVersionId": 30627,
   "isGpuEnabled": true,
   "isInternetEnabled": true,
   "language": "python",
   "sourceType": "notebook"
  },
  "kernelspec": {
   "display_name": "Python 3",
   "language": "python",
   "name": "python3"
  },
  "language_info": {
   "codemirror_mode": {
    "name": "ipython",
    "version": 3
   },
   "file_extension": ".py",
   "mimetype": "text/x-python",
   "name": "python",
   "nbconvert_exporter": "python",
   "pygments_lexer": "ipython3",
   "version": "3.10.12"
  },
  "papermill": {
   "default_parameters": {},
   "duration": 1970.009722,
   "end_time": "2024-01-09T18:09:20.653312",
   "environment_variables": {},
   "exception": null,
   "input_path": "__notebook__.ipynb",
   "output_path": "__notebook__.ipynb",
   "parameters": {},
   "start_time": "2024-01-09T17:36:30.643590",
   "version": "2.4.0"
  }
 },
 "nbformat": 4,
 "nbformat_minor": 5
}
